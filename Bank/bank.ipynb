{
 "cells": [
  {
   "cell_type": "markdown",
   "metadata": {},
   "source": [
    "# Отток клиентов"
   ]
  },
  {
   "cell_type": "markdown",
   "metadata": {},
   "source": [
    "Из «Бета-Банка» стали уходить клиенты. Каждый месяц. Немного, но заметно. Банковские маркетологи посчитали: сохранять текущих клиентов дешевле, чем привлекать новых.\n",
    "\n",
    "Нужно спрогнозировать, уйдёт клиент из банка в ближайшее время или нет. Вам предоставлены исторические данные о поведении клиентов и расторжении договоров с банком. \n",
    "\n",
    "Постройте модель с предельно большим значением *F1*-меры. Чтобы сдать проект успешно, нужно довести метрику до 0.59. Проверьте *F1*-меру на тестовой выборке самостоятельно.\n",
    "\n",
    "Дополнительно измеряйте *AUC-ROC*, сравнивайте её значение с *F1*-мерой.\n",
    "\n",
    "Источник данных: [https://www.kaggle.com/barelydedicated/bank-customer-churn-modeling](https://www.kaggle.com/barelydedicated/bank-customer-churn-modeling)"
   ]
  },
  {
   "cell_type": "markdown",
   "metadata": {},
   "source": [
    "# Инструкция по выполнению проекта\n",
    "- Загрузите и подготовьте данные. Поясните порядок действий.\n",
    "- Исследуйте баланс классов, обучите модель без учёта дисбаланса. Кратко опишите выводы.\n",
    "- Улучшите качество модели, учитывая дисбаланс классов. Обучите разные модели и найдите лучшую. Кратко опишите выводы.\n",
    "- Проведите финальное тестирование."
   ]
  },
  {
   "cell_type": "markdown",
   "metadata": {},
   "source": [
    "# Описание данных\n",
    "- Данные находятся в файле /datasets/Churn.csv (англ. «отток клиентов»). Скачать датасет\n",
    "    - Признаки\n",
    "- RowNumber — индекс строки в данных\n",
    "- CustomerId — уникальный идентификатор клиента\n",
    "- Surname — фамилия\n",
    "- CreditScore — кредитный рейтинг\n",
    "- Geography — страна проживания\n",
    "- Gender — пол\n",
    "- Age — возраст\n",
    "- Tenure — количество недвижимости у клиента\n",
    "- Balance — баланс на счёте\n",
    "- NumOfProducts — количество продуктов банка, используемых клиентом\n",
    "- HasCrCard — наличие кредитной карты\n",
    "- IsActiveMember — активность клиента\n",
    "- EstimatedSalary — предполагаемая зарплата\n",
    "    - Целевой признак\n",
    "- Exited — факт ухода клиента"
   ]
  },
  {
   "cell_type": "markdown",
   "metadata": {},
   "source": [
    "# 1. Подготовка данных"
   ]
  },
  {
   "cell_type": "code",
   "execution_count": 385,
   "metadata": {},
   "outputs": [],
   "source": [
    "import pandas as pd\n",
    "from sklearn.model_selection import train_test_split\n",
    "from sklearn.linear_model import LogisticRegression\n",
    "from sklearn.tree import DecisionTreeClassifier\n",
    "from sklearn.ensemble import RandomForestClassifier\n",
    "from sklearn.preprocessing import StandardScaler\n",
    "from sklearn.metrics import accuracy_score\n",
    "from sklearn.metrics import confusion_matrix\n",
    "from sklearn.metrics import recall_score\n",
    "from sklearn.metrics import precision_score\n",
    "from sklearn.metrics import f1_score\n",
    "from sklearn.utils import shuffle\n",
    "from sklearn.metrics import roc_curve\n",
    "from sklearn.metrics import roc_auc_score\n",
    "import matplotlib.pyplot as plt\n",
    "import warnings\n",
    "import numpy as np\n",
    "from sklearn.model_selection import RandomizedSearchCV\n",
    "warnings.filterwarnings(\"ignore\")"
   ]
  },
  {
   "cell_type": "code",
   "execution_count": 386,
   "metadata": {},
   "outputs": [
    {
     "name": "stdout",
     "output_type": "stream",
     "text": [
      "<class 'pandas.core.frame.DataFrame'>\n",
      "RangeIndex: 10000 entries, 0 to 9999\n",
      "Data columns (total 14 columns):\n",
      "RowNumber          10000 non-null int64\n",
      "CustomerId         10000 non-null int64\n",
      "Surname            10000 non-null object\n",
      "CreditScore        10000 non-null int64\n",
      "Geography          10000 non-null object\n",
      "Gender             10000 non-null object\n",
      "Age                10000 non-null int64\n",
      "Tenure             9091 non-null float64\n",
      "Balance            10000 non-null float64\n",
      "NumOfProducts      10000 non-null int64\n",
      "HasCrCard          10000 non-null int64\n",
      "IsActiveMember     10000 non-null int64\n",
      "EstimatedSalary    10000 non-null float64\n",
      "Exited             10000 non-null int64\n",
      "dtypes: float64(3), int64(8), object(3)\n",
      "memory usage: 1.1+ MB\n",
      "None\n"
     ]
    },
    {
     "data": {
      "text/html": [
       "<div>\n",
       "<style scoped>\n",
       "    .dataframe tbody tr th:only-of-type {\n",
       "        vertical-align: middle;\n",
       "    }\n",
       "\n",
       "    .dataframe tbody tr th {\n",
       "        vertical-align: top;\n",
       "    }\n",
       "\n",
       "    .dataframe thead th {\n",
       "        text-align: right;\n",
       "    }\n",
       "</style>\n",
       "<table border=\"1\" class=\"dataframe\">\n",
       "  <thead>\n",
       "    <tr style=\"text-align: right;\">\n",
       "      <th></th>\n",
       "      <th>RowNumber</th>\n",
       "      <th>CustomerId</th>\n",
       "      <th>Surname</th>\n",
       "      <th>CreditScore</th>\n",
       "      <th>Geography</th>\n",
       "      <th>Gender</th>\n",
       "      <th>Age</th>\n",
       "      <th>Tenure</th>\n",
       "      <th>Balance</th>\n",
       "      <th>NumOfProducts</th>\n",
       "      <th>HasCrCard</th>\n",
       "      <th>IsActiveMember</th>\n",
       "      <th>EstimatedSalary</th>\n",
       "      <th>Exited</th>\n",
       "    </tr>\n",
       "  </thead>\n",
       "  <tbody>\n",
       "    <tr>\n",
       "      <td>0</td>\n",
       "      <td>1</td>\n",
       "      <td>15634602</td>\n",
       "      <td>Hargrave</td>\n",
       "      <td>619</td>\n",
       "      <td>France</td>\n",
       "      <td>Female</td>\n",
       "      <td>42</td>\n",
       "      <td>2.0</td>\n",
       "      <td>0.00</td>\n",
       "      <td>1</td>\n",
       "      <td>1</td>\n",
       "      <td>1</td>\n",
       "      <td>101348.88</td>\n",
       "      <td>1</td>\n",
       "    </tr>\n",
       "    <tr>\n",
       "      <td>1</td>\n",
       "      <td>2</td>\n",
       "      <td>15647311</td>\n",
       "      <td>Hill</td>\n",
       "      <td>608</td>\n",
       "      <td>Spain</td>\n",
       "      <td>Female</td>\n",
       "      <td>41</td>\n",
       "      <td>1.0</td>\n",
       "      <td>83807.86</td>\n",
       "      <td>1</td>\n",
       "      <td>0</td>\n",
       "      <td>1</td>\n",
       "      <td>112542.58</td>\n",
       "      <td>0</td>\n",
       "    </tr>\n",
       "    <tr>\n",
       "      <td>2</td>\n",
       "      <td>3</td>\n",
       "      <td>15619304</td>\n",
       "      <td>Onio</td>\n",
       "      <td>502</td>\n",
       "      <td>France</td>\n",
       "      <td>Female</td>\n",
       "      <td>42</td>\n",
       "      <td>8.0</td>\n",
       "      <td>159660.80</td>\n",
       "      <td>3</td>\n",
       "      <td>1</td>\n",
       "      <td>0</td>\n",
       "      <td>113931.57</td>\n",
       "      <td>1</td>\n",
       "    </tr>\n",
       "    <tr>\n",
       "      <td>3</td>\n",
       "      <td>4</td>\n",
       "      <td>15701354</td>\n",
       "      <td>Boni</td>\n",
       "      <td>699</td>\n",
       "      <td>France</td>\n",
       "      <td>Female</td>\n",
       "      <td>39</td>\n",
       "      <td>1.0</td>\n",
       "      <td>0.00</td>\n",
       "      <td>2</td>\n",
       "      <td>0</td>\n",
       "      <td>0</td>\n",
       "      <td>93826.63</td>\n",
       "      <td>0</td>\n",
       "    </tr>\n",
       "    <tr>\n",
       "      <td>4</td>\n",
       "      <td>5</td>\n",
       "      <td>15737888</td>\n",
       "      <td>Mitchell</td>\n",
       "      <td>850</td>\n",
       "      <td>Spain</td>\n",
       "      <td>Female</td>\n",
       "      <td>43</td>\n",
       "      <td>2.0</td>\n",
       "      <td>125510.82</td>\n",
       "      <td>1</td>\n",
       "      <td>1</td>\n",
       "      <td>1</td>\n",
       "      <td>79084.10</td>\n",
       "      <td>0</td>\n",
       "    </tr>\n",
       "    <tr>\n",
       "      <td>5</td>\n",
       "      <td>6</td>\n",
       "      <td>15574012</td>\n",
       "      <td>Chu</td>\n",
       "      <td>645</td>\n",
       "      <td>Spain</td>\n",
       "      <td>Male</td>\n",
       "      <td>44</td>\n",
       "      <td>8.0</td>\n",
       "      <td>113755.78</td>\n",
       "      <td>2</td>\n",
       "      <td>1</td>\n",
       "      <td>0</td>\n",
       "      <td>149756.71</td>\n",
       "      <td>1</td>\n",
       "    </tr>\n",
       "    <tr>\n",
       "      <td>6</td>\n",
       "      <td>7</td>\n",
       "      <td>15592531</td>\n",
       "      <td>Bartlett</td>\n",
       "      <td>822</td>\n",
       "      <td>France</td>\n",
       "      <td>Male</td>\n",
       "      <td>50</td>\n",
       "      <td>7.0</td>\n",
       "      <td>0.00</td>\n",
       "      <td>2</td>\n",
       "      <td>1</td>\n",
       "      <td>1</td>\n",
       "      <td>10062.80</td>\n",
       "      <td>0</td>\n",
       "    </tr>\n",
       "    <tr>\n",
       "      <td>7</td>\n",
       "      <td>8</td>\n",
       "      <td>15656148</td>\n",
       "      <td>Obinna</td>\n",
       "      <td>376</td>\n",
       "      <td>Germany</td>\n",
       "      <td>Female</td>\n",
       "      <td>29</td>\n",
       "      <td>4.0</td>\n",
       "      <td>115046.74</td>\n",
       "      <td>4</td>\n",
       "      <td>1</td>\n",
       "      <td>0</td>\n",
       "      <td>119346.88</td>\n",
       "      <td>1</td>\n",
       "    </tr>\n",
       "    <tr>\n",
       "      <td>8</td>\n",
       "      <td>9</td>\n",
       "      <td>15792365</td>\n",
       "      <td>He</td>\n",
       "      <td>501</td>\n",
       "      <td>France</td>\n",
       "      <td>Male</td>\n",
       "      <td>44</td>\n",
       "      <td>4.0</td>\n",
       "      <td>142051.07</td>\n",
       "      <td>2</td>\n",
       "      <td>0</td>\n",
       "      <td>1</td>\n",
       "      <td>74940.50</td>\n",
       "      <td>0</td>\n",
       "    </tr>\n",
       "    <tr>\n",
       "      <td>9</td>\n",
       "      <td>10</td>\n",
       "      <td>15592389</td>\n",
       "      <td>H?</td>\n",
       "      <td>684</td>\n",
       "      <td>France</td>\n",
       "      <td>Male</td>\n",
       "      <td>27</td>\n",
       "      <td>2.0</td>\n",
       "      <td>134603.88</td>\n",
       "      <td>1</td>\n",
       "      <td>1</td>\n",
       "      <td>1</td>\n",
       "      <td>71725.73</td>\n",
       "      <td>0</td>\n",
       "    </tr>\n",
       "  </tbody>\n",
       "</table>\n",
       "</div>"
      ],
      "text/plain": [
       "   RowNumber  CustomerId   Surname  CreditScore Geography  Gender  Age  \\\n",
       "0          1    15634602  Hargrave          619    France  Female   42   \n",
       "1          2    15647311      Hill          608     Spain  Female   41   \n",
       "2          3    15619304      Onio          502    France  Female   42   \n",
       "3          4    15701354      Boni          699    France  Female   39   \n",
       "4          5    15737888  Mitchell          850     Spain  Female   43   \n",
       "5          6    15574012       Chu          645     Spain    Male   44   \n",
       "6          7    15592531  Bartlett          822    France    Male   50   \n",
       "7          8    15656148    Obinna          376   Germany  Female   29   \n",
       "8          9    15792365        He          501    France    Male   44   \n",
       "9         10    15592389        H?          684    France    Male   27   \n",
       "\n",
       "   Tenure    Balance  NumOfProducts  HasCrCard  IsActiveMember  \\\n",
       "0     2.0       0.00              1          1               1   \n",
       "1     1.0   83807.86              1          0               1   \n",
       "2     8.0  159660.80              3          1               0   \n",
       "3     1.0       0.00              2          0               0   \n",
       "4     2.0  125510.82              1          1               1   \n",
       "5     8.0  113755.78              2          1               0   \n",
       "6     7.0       0.00              2          1               1   \n",
       "7     4.0  115046.74              4          1               0   \n",
       "8     4.0  142051.07              2          0               1   \n",
       "9     2.0  134603.88              1          1               1   \n",
       "\n",
       "   EstimatedSalary  Exited  \n",
       "0        101348.88       1  \n",
       "1        112542.58       0  \n",
       "2        113931.57       1  \n",
       "3         93826.63       0  \n",
       "4         79084.10       0  \n",
       "5        149756.71       1  \n",
       "6         10062.80       0  \n",
       "7        119346.88       1  \n",
       "8         74940.50       0  \n",
       "9         71725.73       0  "
      ]
     },
     "execution_count": 386,
     "metadata": {},
     "output_type": "execute_result"
    }
   ],
   "source": [
    "#Прочитаем данные и выведем всю необходимую информацию.\n",
    "df = pd.read_csv('/datasets/Churn.csv')\n",
    "\n",
    "print(df.info())\n",
    "df.head(10)"
   ]
  },
  {
   "cell_type": "markdown",
   "metadata": {},
   "source": [
    "Имеем пропуски в \"Tenure\". Можем устранить с помощью медианы количества недвижимости у клиента для каждого возраста. "
   ]
  },
  {
   "cell_type": "code",
   "execution_count": 387,
   "metadata": {},
   "outputs": [],
   "source": [
    "for item in df['Age'].unique():\n",
    "    filter_flags = df['Tenure'].isna() & (df['Age'] == item)\n",
    "    df.loc[filter_flags, 'Tenure'] = df.loc[df['Age'] == item, 'Tenure'].median()"
   ]
  },
  {
   "cell_type": "code",
   "execution_count": 388,
   "metadata": {},
   "outputs": [
    {
     "name": "stdout",
     "output_type": "stream",
     "text": [
      "<class 'pandas.core.frame.DataFrame'>\n",
      "RangeIndex: 10000 entries, 0 to 9999\n",
      "Data columns (total 14 columns):\n",
      "RowNumber          10000 non-null int64\n",
      "CustomerId         10000 non-null int64\n",
      "Surname            10000 non-null object\n",
      "CreditScore        10000 non-null int64\n",
      "Geography          10000 non-null object\n",
      "Gender             10000 non-null object\n",
      "Age                10000 non-null int64\n",
      "Tenure             10000 non-null float64\n",
      "Balance            10000 non-null float64\n",
      "NumOfProducts      10000 non-null int64\n",
      "HasCrCard          10000 non-null int64\n",
      "IsActiveMember     10000 non-null int64\n",
      "EstimatedSalary    10000 non-null float64\n",
      "Exited             10000 non-null int64\n",
      "dtypes: float64(3), int64(8), object(3)\n",
      "memory usage: 1.1+ MB\n"
     ]
    }
   ],
   "source": [
    "df.info()"
   ]
  },
  {
   "cell_type": "code",
   "execution_count": 389,
   "metadata": {},
   "outputs": [
    {
     "data": {
      "text/plain": [
       "RowNumber          0\n",
       "CustomerId         0\n",
       "Surname            0\n",
       "CreditScore        0\n",
       "Geography          0\n",
       "Gender             0\n",
       "Age                0\n",
       "Tenure             0\n",
       "Balance            0\n",
       "NumOfProducts      0\n",
       "HasCrCard          0\n",
       "IsActiveMember     0\n",
       "EstimatedSalary    0\n",
       "Exited             0\n",
       "dtype: int64"
      ]
     },
     "execution_count": 389,
     "metadata": {},
     "output_type": "execute_result"
    }
   ],
   "source": [
    "df.isnull().sum()"
   ]
  },
  {
   "cell_type": "markdown",
   "metadata": {},
   "source": [
    "Удалим столбцы - 'RowNumber', 'CustomerId', 'Surname' из обучающей выборки."
   ]
  },
  {
   "cell_type": "code",
   "execution_count": 390,
   "metadata": {},
   "outputs": [],
   "source": [
    "df = df.drop(['RowNumber', 'CustomerId', 'Surname'], axis = 1)"
   ]
  },
  {
   "cell_type": "markdown",
   "metadata": {},
   "source": [
    "Преобразуем категориальные признаки в числовые с помощью техники прямого кодирования(One-Hot Encoding, OHE). Для прямого кодирования в библиотеке pandas есть функция pd.get_dummies()\n",
    "чтобы избежать дамми-ловушки, используем аргумент drop_first=True"
   ]
  },
  {
   "cell_type": "code",
   "execution_count": 391,
   "metadata": {},
   "outputs": [
    {
     "data": {
      "text/html": [
       "<div>\n",
       "<style scoped>\n",
       "    .dataframe tbody tr th:only-of-type {\n",
       "        vertical-align: middle;\n",
       "    }\n",
       "\n",
       "    .dataframe tbody tr th {\n",
       "        vertical-align: top;\n",
       "    }\n",
       "\n",
       "    .dataframe thead th {\n",
       "        text-align: right;\n",
       "    }\n",
       "</style>\n",
       "<table border=\"1\" class=\"dataframe\">\n",
       "  <thead>\n",
       "    <tr style=\"text-align: right;\">\n",
       "      <th></th>\n",
       "      <th>CreditScore</th>\n",
       "      <th>Age</th>\n",
       "      <th>Tenure</th>\n",
       "      <th>Balance</th>\n",
       "      <th>NumOfProducts</th>\n",
       "      <th>HasCrCard</th>\n",
       "      <th>IsActiveMember</th>\n",
       "      <th>EstimatedSalary</th>\n",
       "      <th>Exited</th>\n",
       "      <th>Geography_Germany</th>\n",
       "      <th>Geography_Spain</th>\n",
       "      <th>Gender_Male</th>\n",
       "    </tr>\n",
       "  </thead>\n",
       "  <tbody>\n",
       "    <tr>\n",
       "      <td>0</td>\n",
       "      <td>619</td>\n",
       "      <td>42</td>\n",
       "      <td>2.0</td>\n",
       "      <td>0.00</td>\n",
       "      <td>1</td>\n",
       "      <td>1</td>\n",
       "      <td>1</td>\n",
       "      <td>101348.88</td>\n",
       "      <td>1</td>\n",
       "      <td>0</td>\n",
       "      <td>0</td>\n",
       "      <td>0</td>\n",
       "    </tr>\n",
       "    <tr>\n",
       "      <td>1</td>\n",
       "      <td>608</td>\n",
       "      <td>41</td>\n",
       "      <td>1.0</td>\n",
       "      <td>83807.86</td>\n",
       "      <td>1</td>\n",
       "      <td>0</td>\n",
       "      <td>1</td>\n",
       "      <td>112542.58</td>\n",
       "      <td>0</td>\n",
       "      <td>0</td>\n",
       "      <td>1</td>\n",
       "      <td>0</td>\n",
       "    </tr>\n",
       "    <tr>\n",
       "      <td>2</td>\n",
       "      <td>502</td>\n",
       "      <td>42</td>\n",
       "      <td>8.0</td>\n",
       "      <td>159660.80</td>\n",
       "      <td>3</td>\n",
       "      <td>1</td>\n",
       "      <td>0</td>\n",
       "      <td>113931.57</td>\n",
       "      <td>1</td>\n",
       "      <td>0</td>\n",
       "      <td>0</td>\n",
       "      <td>0</td>\n",
       "    </tr>\n",
       "    <tr>\n",
       "      <td>3</td>\n",
       "      <td>699</td>\n",
       "      <td>39</td>\n",
       "      <td>1.0</td>\n",
       "      <td>0.00</td>\n",
       "      <td>2</td>\n",
       "      <td>0</td>\n",
       "      <td>0</td>\n",
       "      <td>93826.63</td>\n",
       "      <td>0</td>\n",
       "      <td>0</td>\n",
       "      <td>0</td>\n",
       "      <td>0</td>\n",
       "    </tr>\n",
       "    <tr>\n",
       "      <td>4</td>\n",
       "      <td>850</td>\n",
       "      <td>43</td>\n",
       "      <td>2.0</td>\n",
       "      <td>125510.82</td>\n",
       "      <td>1</td>\n",
       "      <td>1</td>\n",
       "      <td>1</td>\n",
       "      <td>79084.10</td>\n",
       "      <td>0</td>\n",
       "      <td>0</td>\n",
       "      <td>1</td>\n",
       "      <td>0</td>\n",
       "    </tr>\n",
       "    <tr>\n",
       "      <td>5</td>\n",
       "      <td>645</td>\n",
       "      <td>44</td>\n",
       "      <td>8.0</td>\n",
       "      <td>113755.78</td>\n",
       "      <td>2</td>\n",
       "      <td>1</td>\n",
       "      <td>0</td>\n",
       "      <td>149756.71</td>\n",
       "      <td>1</td>\n",
       "      <td>0</td>\n",
       "      <td>1</td>\n",
       "      <td>1</td>\n",
       "    </tr>\n",
       "    <tr>\n",
       "      <td>6</td>\n",
       "      <td>822</td>\n",
       "      <td>50</td>\n",
       "      <td>7.0</td>\n",
       "      <td>0.00</td>\n",
       "      <td>2</td>\n",
       "      <td>1</td>\n",
       "      <td>1</td>\n",
       "      <td>10062.80</td>\n",
       "      <td>0</td>\n",
       "      <td>0</td>\n",
       "      <td>0</td>\n",
       "      <td>1</td>\n",
       "    </tr>\n",
       "    <tr>\n",
       "      <td>7</td>\n",
       "      <td>376</td>\n",
       "      <td>29</td>\n",
       "      <td>4.0</td>\n",
       "      <td>115046.74</td>\n",
       "      <td>4</td>\n",
       "      <td>1</td>\n",
       "      <td>0</td>\n",
       "      <td>119346.88</td>\n",
       "      <td>1</td>\n",
       "      <td>1</td>\n",
       "      <td>0</td>\n",
       "      <td>0</td>\n",
       "    </tr>\n",
       "    <tr>\n",
       "      <td>8</td>\n",
       "      <td>501</td>\n",
       "      <td>44</td>\n",
       "      <td>4.0</td>\n",
       "      <td>142051.07</td>\n",
       "      <td>2</td>\n",
       "      <td>0</td>\n",
       "      <td>1</td>\n",
       "      <td>74940.50</td>\n",
       "      <td>0</td>\n",
       "      <td>0</td>\n",
       "      <td>0</td>\n",
       "      <td>1</td>\n",
       "    </tr>\n",
       "    <tr>\n",
       "      <td>9</td>\n",
       "      <td>684</td>\n",
       "      <td>27</td>\n",
       "      <td>2.0</td>\n",
       "      <td>134603.88</td>\n",
       "      <td>1</td>\n",
       "      <td>1</td>\n",
       "      <td>1</td>\n",
       "      <td>71725.73</td>\n",
       "      <td>0</td>\n",
       "      <td>0</td>\n",
       "      <td>0</td>\n",
       "      <td>1</td>\n",
       "    </tr>\n",
       "  </tbody>\n",
       "</table>\n",
       "</div>"
      ],
      "text/plain": [
       "   CreditScore  Age  Tenure    Balance  NumOfProducts  HasCrCard  \\\n",
       "0          619   42     2.0       0.00              1          1   \n",
       "1          608   41     1.0   83807.86              1          0   \n",
       "2          502   42     8.0  159660.80              3          1   \n",
       "3          699   39     1.0       0.00              2          0   \n",
       "4          850   43     2.0  125510.82              1          1   \n",
       "5          645   44     8.0  113755.78              2          1   \n",
       "6          822   50     7.0       0.00              2          1   \n",
       "7          376   29     4.0  115046.74              4          1   \n",
       "8          501   44     4.0  142051.07              2          0   \n",
       "9          684   27     2.0  134603.88              1          1   \n",
       "\n",
       "   IsActiveMember  EstimatedSalary  Exited  Geography_Germany  \\\n",
       "0               1        101348.88       1                  0   \n",
       "1               1        112542.58       0                  0   \n",
       "2               0        113931.57       1                  0   \n",
       "3               0         93826.63       0                  0   \n",
       "4               1         79084.10       0                  0   \n",
       "5               0        149756.71       1                  0   \n",
       "6               1         10062.80       0                  0   \n",
       "7               0        119346.88       1                  1   \n",
       "8               1         74940.50       0                  0   \n",
       "9               1         71725.73       0                  0   \n",
       "\n",
       "   Geography_Spain  Gender_Male  \n",
       "0                0            0  \n",
       "1                1            0  \n",
       "2                0            0  \n",
       "3                0            0  \n",
       "4                1            0  \n",
       "5                1            1  \n",
       "6                0            1  \n",
       "7                0            0  \n",
       "8                0            1  \n",
       "9                0            1  "
      ]
     },
     "execution_count": 391,
     "metadata": {},
     "output_type": "execute_result"
    }
   ],
   "source": [
    "df_ohe = pd.get_dummies(df, drop_first = True)\n",
    "df_ohe.head(10)"
   ]
  },
  {
   "cell_type": "markdown",
   "metadata": {},
   "source": [
    "Разобьем данные на выборки:\n",
    "    - тестовая\n",
    "    - валидационная \n",
    "    - обучающую\n",
    "Используя функцию train_test_split из библиетеки sklearn.model_selection\n",
    "Разделим сначала df на df_train и df_valid_test, а потом df_valid_test на df_valid и df_test"
   ]
  },
  {
   "cell_type": "code",
   "execution_count": 392,
   "metadata": {},
   "outputs": [],
   "source": [
    "y = df['Exited']\n",
    "df_train, df_valid_test = train_test_split(df_ohe, test_size = 0.4, random_state = 12345, stratify = y)\n",
    "df_valid, df_test = train_test_split(df_valid_test, test_size = 0.5, random_state = 12345)"
   ]
  },
  {
   "cell_type": "markdown",
   "metadata": {},
   "source": [
    "Выведем размеры полученных выборок."
   ]
  },
  {
   "cell_type": "code",
   "execution_count": 393,
   "metadata": {},
   "outputs": [
    {
     "name": "stdout",
     "output_type": "stream",
     "text": [
      "(2000, 12)\n",
      "(2000, 12)\n",
      "(6000, 12)\n"
     ]
    }
   ],
   "source": [
    "print(df_test.shape)\n",
    "print(df_valid.shape)\n",
    "print(df_train.shape)"
   ]
  },
  {
   "cell_type": "code",
   "execution_count": 394,
   "metadata": {},
   "outputs": [],
   "source": [
    "#Разделим каждую выборку на features и target.\n",
    "features_test = df_test.drop(['Exited'], axis = 1)\n",
    "target_test = df_test['Exited']\n",
    "\n",
    "features_valid = df_valid.drop(['Exited'], axis = 1)\n",
    "target_valid = df_valid['Exited']\n",
    "\n",
    "features_train = df_train.drop(['Exited'], axis = 1)\n",
    "target_train = df_train['Exited']"
   ]
  },
  {
   "cell_type": "markdown",
   "metadata": {},
   "source": [
    "Для того, чтобы отмаштабировать признаки, воспотльзуемся одним из методов масштабирования — стандартизации данных.\n",
    "В sklearn есть отдельная структура для стандартизации данных — StandardScaler\n",
    "Преобразуем обучающую,валидационную и тестовую выборки функцией transform()."
   ]
  },
  {
   "cell_type": "code",
   "execution_count": 395,
   "metadata": {},
   "outputs": [],
   "source": [
    "numeric = ['CreditScore', 'Age', 'Tenure', 'Balance', 'NumOfProducts', 'HasCrCard', 'IsActiveMember', 'EstimatedSalary']\n",
    "scaler = StandardScaler()\n",
    "scaler.fit(features_train[numeric])\n",
    "features_train[numeric] = scaler.transform(features_train[numeric])\n",
    "features_valid[numeric] = scaler.transform(features_valid[numeric])\n",
    "features_test[numeric] = scaler.transform(features_test[numeric])"
   ]
  },
  {
   "cell_type": "markdown",
   "metadata": {},
   "source": [
    "## Выводы по главе 1:\n",
    "- Преобразовали данные для пригодного для обучения модели состояния.\n",
    "- Использовали технику прямого кодирования, стандартизации данных и разбивку на выборки:\n",
    "    - Обучающая - для обучения моделей,\n",
    "    - Валидационная - для настройки гиперпараметров модели,\n",
    "    - Тестовая - для окончательной проверки модели на неизвестных данных и оценки качества модели"
   ]
  },
  {
   "cell_type": "markdown",
   "metadata": {},
   "source": [
    "# 2. Исследование задачи"
   ]
  },
  {
   "cell_type": "markdown",
   "metadata": {},
   "source": [
    "Данная задача относиться к задачам классификации, в нашем случае бинарной классификации.\n",
    "Рассмотрим 3 модели:\n",
    "* Решающее дерево DecisionTreeClassifier из библиотеки sklearn.tree\n",
    "* Случайный лес RandomForestClassifier из библиотеки sklearn.ensemble \n",
    "* Логистическая регрессия LogisticRegression из библиотеки sklearn.linear_model\n",
    "\n",
    "Сразу введем псевдослучайность для алгоритма обучения, используя генератор псевдослучайных чисел random_state. Таким образом модель будет воспринимать данные как случайные, для нас это необходимо , чтобы результаты неизменно получались одинаковыми (другими словами, повторить удачный эксперимент)."
   ]
  },
  {
   "cell_type": "markdown",
   "metadata": {},
   "source": [
    "### Решающее дерево - DecisionTreeClassifier\n",
    "Создадим модель и запишем в переменную tree_model, обучим модель используя метод fit() на признаках features_train и целевом признаке target_train."
   ]
  },
  {
   "cell_type": "code",
   "execution_count": 396,
   "metadata": {},
   "outputs": [
    {
     "data": {
      "text/plain": [
       "DecisionTreeClassifier(class_weight=None, criterion='gini', max_depth=None,\n",
       "                       max_features=None, max_leaf_nodes=None,\n",
       "                       min_impurity_decrease=0.0, min_impurity_split=None,\n",
       "                       min_samples_leaf=1, min_samples_split=2,\n",
       "                       min_weight_fraction_leaf=0.0, presort=False,\n",
       "                       random_state=12345, splitter='best')"
      ]
     },
     "execution_count": 396,
     "metadata": {},
     "output_type": "execute_result"
    }
   ],
   "source": [
    "tree_model = DecisionTreeClassifier(random_state=12345)\n",
    "tree_model.fit(features_train, target_train)"
   ]
  },
  {
   "cell_type": "markdown",
   "metadata": {},
   "source": [
    "Чтобы предсказать ответы, вызовем метод predict()и передать ему таблицу с признаками новых объектов features_valid.\n",
    "Посчитаем оценку точности предсказания accuracy_score для модели, сравнив предсказания tree_valid_predictions и правильные ответы target_valid в валидационной выборке."
   ]
  },
  {
   "cell_type": "code",
   "execution_count": 397,
   "metadata": {},
   "outputs": [
    {
     "data": {
      "text/plain": [
       "0.7845"
      ]
     },
     "execution_count": 397,
     "metadata": {},
     "output_type": "execute_result"
    }
   ],
   "source": [
    "tree_predicted_valid = tree_model.predict(features_valid)\n",
    "accuracy_valid = accuracy_score(target_valid, tree_predicted_valid)\n",
    "accuracy_valid"
   ]
  },
  {
   "cell_type": "markdown",
   "metadata": {},
   "source": [
    "### Случайный лес - RandomForestClassifier"
   ]
  },
  {
   "cell_type": "markdown",
   "metadata": {},
   "source": [
    "Создадим модель случайный лес и запишем в переменную forest_model, обучим модель используя метод fit() на признаках features_train и целевом признаке target_train."
   ]
  },
  {
   "cell_type": "code",
   "execution_count": 398,
   "metadata": {},
   "outputs": [
    {
     "data": {
      "text/plain": [
       "RandomForestClassifier(bootstrap=True, class_weight=None, criterion='gini',\n",
       "                       max_depth=None, max_features='auto', max_leaf_nodes=None,\n",
       "                       min_impurity_decrease=0.0, min_impurity_split=None,\n",
       "                       min_samples_leaf=1, min_samples_split=2,\n",
       "                       min_weight_fraction_leaf=0.0, n_estimators=10,\n",
       "                       n_jobs=None, oob_score=False, random_state=12345,\n",
       "                       verbose=0, warm_start=False)"
      ]
     },
     "execution_count": 398,
     "metadata": {},
     "output_type": "execute_result"
    }
   ],
   "source": [
    "forest_model = RandomForestClassifier(random_state = 12345)\n",
    "forest_model.fit(features_train, target_train)"
   ]
  },
  {
   "cell_type": "markdown",
   "metadata": {},
   "source": [
    "Чтобы предсказать ответы, вызовем метод predict()и передать ему таблицу с признаками новых объектов features_valid.\n",
    "Посчитаем оценку точности предсказания accuracy_score для модели, сравнив предсказания forest_predicted_valid и правильные ответы target_valid в валидационной выборке."
   ]
  },
  {
   "cell_type": "code",
   "execution_count": 399,
   "metadata": {},
   "outputs": [
    {
     "data": {
      "text/plain": [
       "0.851"
      ]
     },
     "execution_count": 399,
     "metadata": {},
     "output_type": "execute_result"
    }
   ],
   "source": [
    "forest_predicted_valid = forest_model.predict(features_valid)\n",
    "accuracy_valid = accuracy_score(target_valid, forest_predicted_valid)\n",
    "accuracy_valid"
   ]
  },
  {
   "cell_type": "markdown",
   "metadata": {},
   "source": [
    "### Логистическая регрессия - LogisticRegression"
   ]
  },
  {
   "cell_type": "markdown",
   "metadata": {},
   "source": [
    "Создадим модель Логистическая регрессия и запишем в переменную logistic_model, обучим модель используя метод fit() на признаках features_train и целевом признаке target_train."
   ]
  },
  {
   "cell_type": "code",
   "execution_count": 400,
   "metadata": {},
   "outputs": [
    {
     "data": {
      "text/plain": [
       "LogisticRegression(C=1.0, class_weight=None, dual=False, fit_intercept=True,\n",
       "                   intercept_scaling=1, l1_ratio=None, max_iter=100,\n",
       "                   multi_class='warn', n_jobs=None, penalty='l2',\n",
       "                   random_state=12345, solver='warn', tol=0.0001, verbose=0,\n",
       "                   warm_start=False)"
      ]
     },
     "execution_count": 400,
     "metadata": {},
     "output_type": "execute_result"
    }
   ],
   "source": [
    "logistic_model = LogisticRegression(random_state = 12345)\n",
    "logistic_model.fit(features_train, target_train)"
   ]
  },
  {
   "cell_type": "markdown",
   "metadata": {},
   "source": [
    "Чтобы предсказать ответы, вызовем метод predict()и передать ему таблицу с признаками новых объектов features_valid.\n",
    "Посчитаем оценку точности предсказания accuracy_score для модели, сравнив предсказания logistic_predicted_valid и правильные ответы target_valid в валидационной выборке."
   ]
  },
  {
   "cell_type": "code",
   "execution_count": 401,
   "metadata": {},
   "outputs": [
    {
     "data": {
      "text/plain": [
       "0.815"
      ]
     },
     "execution_count": 401,
     "metadata": {},
     "output_type": "execute_result"
    }
   ],
   "source": [
    "logistic_predicted_valid = logistic_model.predict(features_valid)\n",
    "accuracy_valid = accuracy_score(target_valid, logistic_predicted_valid)\n",
    "accuracy_valid"
   ]
  },
  {
   "cell_type": "markdown",
   "metadata": {},
   "source": [
    "### Проверка адекватности модели"
   ]
  },
  {
   "cell_type": "markdown",
   "metadata": {},
   "source": [
    "Чтобы оценить адекватность модели, проверим, как часто в целевом признаке встречается класс «1» или «0». Количество уникальных значений подсчитаем методом value_counts().\n",
    "Методом plot() c аргументом kind='bar' построим диаграмму."
   ]
  },
  {
   "cell_type": "code",
   "execution_count": 402,
   "metadata": {},
   "outputs": [
    {
     "name": "stdout",
     "output_type": "stream",
     "text": [
      "0    0.7963\n",
      "1    0.2037\n",
      "Name: Exited, dtype: float64\n"
     ]
    },
    {
     "data": {
      "text/plain": [
       "<matplotlib.axes._subplots.AxesSubplot at 0x7f8503d5a490>"
      ]
     },
     "execution_count": 402,
     "metadata": {},
     "output_type": "execute_result"
    },
    {
     "data": {
      "image/png": "[encoded data removed]",
      "text/plain": [
       "<Figure size 432x288 with 1 Axes>"
      ]
     },
     "metadata": {
      "needs_background": "light"
     },
     "output_type": "display_data"
    }
   ],
   "source": [
    "class_frequency = df['Exited'].value_counts(normalize = True)\n",
    "print(class_frequency)\n",
    "class_frequency.plot(kind = 'bar')"
   ]
  },
  {
   "cell_type": "markdown",
   "metadata": {},
   "source": [
    "Создадим константную модель: любому объекту она прогнозирует класс «0».\n",
    "Сохраним её предсказания в переменной target_pred_constant. Подсчитаем значение accuracy."
   ]
  },
  {
   "cell_type": "code",
   "execution_count": 403,
   "metadata": {},
   "outputs": [
    {
     "data": {
      "text/plain": [
       "0    2000\n",
       "dtype: int64"
      ]
     },
     "execution_count": 403,
     "metadata": {},
     "output_type": "execute_result"
    }
   ],
   "source": [
    "target_pred_constant = pd.Series(0 for i in range(len(target_valid)))\n",
    "target_pred_constant.value_counts()"
   ]
  },
  {
   "cell_type": "code",
   "execution_count": 404,
   "metadata": {},
   "outputs": [
    {
     "data": {
      "text/plain": [
       "0.8045"
      ]
     },
     "execution_count": 404,
     "metadata": {},
     "output_type": "execute_result"
    }
   ],
   "source": [
    "accuracy_score(target_valid, target_pred_constant)"
   ]
  },
  {
   "cell_type": "markdown",
   "metadata": {},
   "source": [
    "Построим матрицу ошибок для каждой модели из модуля sklearn.metrics. Функция confusion_matrix() :"
   ]
  },
  {
   "cell_type": "code",
   "execution_count": 405,
   "metadata": {},
   "outputs": [
    {
     "data": {
      "text/plain": [
       "array([[1550,   59],\n",
       "       [ 311,   80]])"
      ]
     },
     "execution_count": 405,
     "metadata": {},
     "output_type": "execute_result"
    }
   ],
   "source": [
    "logistic_confusion = confusion_matrix(target_valid, logistic_predicted_valid)\n",
    "logistic_confusion"
   ]
  },
  {
   "cell_type": "code",
   "execution_count": 406,
   "metadata": {},
   "outputs": [
    {
     "data": {
      "text/plain": [
       "array([[1386,  223],\n",
       "       [ 208,  183]])"
      ]
     },
     "execution_count": 406,
     "metadata": {},
     "output_type": "execute_result"
    }
   ],
   "source": [
    "tree_confusion = confusion_matrix(target_valid, tree_predicted_valid)\n",
    "tree_confusion"
   ]
  },
  {
   "cell_type": "code",
   "execution_count": 407,
   "metadata": {},
   "outputs": [
    {
     "data": {
      "text/plain": [
       "array([[1534,   75],\n",
       "       [ 223,  168]])"
      ]
     },
     "execution_count": 407,
     "metadata": {},
     "output_type": "execute_result"
    }
   ],
   "source": [
    "forest_confusion = confusion_matrix(target_valid, forest_predicted_valid)\n",
    "forest_confusion"
   ]
  },
  {
   "cell_type": "markdown",
   "metadata": {},
   "source": [
    "Полнота recall выявляет, какую долю положительных среди всех ответов выделила модель. Функция recall_score из модуля sklearn.metrics. Посчитаем для каждой модели:"
   ]
  },
  {
   "cell_type": "code",
   "execution_count": 408,
   "metadata": {},
   "outputs": [
    {
     "name": "stdout",
     "output_type": "stream",
     "text": [
      "Полнота Логистической регресии:0.20\n",
      "Полнота Решающего Дерева:0.47\n",
      "Полнота Случайного Леса:0.43\n"
     ]
    }
   ],
   "source": [
    "print('Полнота Логистической регресии:{:.2f}'.format(recall_score(target_valid, logistic_predicted_valid)))\n",
    "print('Полнота Решающего Дерева:{:.2f}'.format(recall_score(target_valid, tree_predicted_valid)))\n",
    "print('Полнота Случайного Леса:{:.2f}'.format(recall_score(target_valid, forest_predicted_valid)))"
   ]
  },
  {
   "cell_type": "markdown",
   "metadata": {},
   "source": [
    "Точность precision определяет, как много отрицательных ответов нашла модель, пока искала положительные. Чем больше отрицательных, тем ниже точность. Функция precision_score из модуля sklearn.metrics. Посчитаем для каждой модели:"
   ]
  },
  {
   "cell_type": "code",
   "execution_count": 409,
   "metadata": {},
   "outputs": [
    {
     "name": "stdout",
     "output_type": "stream",
     "text": [
      "Точность Логистической регресии:0.58\n",
      "Точность Решающего Дерева:0.45\n",
      "Точность Случайного Леса:0.69\n"
     ]
    }
   ],
   "source": [
    "print('Точность Логистической регресии:{:.2f}'.format(precision_score(target_valid, logistic_predicted_valid)))\n",
    "print('Точность Решающего Дерева:{:.2f}'.format(precision_score(target_valid, tree_predicted_valid)))\n",
    "print('Точность Случайного Леса:{:.2f}'.format(precision_score(target_valid, forest_predicted_valid)))"
   ]
  },
  {
   "cell_type": "markdown",
   "metadata": {},
   "source": [
    "F1-мера - это среднее гармоническое полноты и точности. Функция f1_score из модуля sklearn.metrics. Посчитаем для каждой модели:"
   ]
  },
  {
   "cell_type": "code",
   "execution_count": 410,
   "metadata": {},
   "outputs": [
    {
     "name": "stdout",
     "output_type": "stream",
     "text": [
      "F1-мера Логистической регресии:0.30\n",
      "F1-мера Решающего Дерева:0.46\n",
      "F1-мера Случайного Леса:0.53\n"
     ]
    }
   ],
   "source": [
    "print('F1-мера Логистической регресии:{:.2f}'.format(f1_score(target_valid, logistic_predicted_valid)))\n",
    "print('F1-мера Решающего Дерева:{:.2f}'.format(f1_score(target_valid, tree_predicted_valid)))\n",
    "print('F1-мера Случайного Леса:{:.2f}'.format(f1_score(target_valid, forest_predicted_valid)))\n"
   ]
  },
  {
   "cell_type": "markdown",
   "metadata": {},
   "source": [
    "## Выводы по главе 2:\n",
    "На качество обученной модели проверили Решающее дерево, Случайный лес и Логистическую регрессию. Результаты оказались хорошими, однако при изучении классов выявили дисбаланс, 0-го класса в 4 раза больше 1-го. Проверку на адекватность обученные модели не прошли.\n",
    "Используя новые метрики оценки модели: recall, precision и f1, оказалось что модели далеки от идельно предсказывающих. Особенно f1 мера показала адекватные оценки качества модели. Имеено эта метрика будет основной для оценки моделей"
   ]
  },
  {
   "cell_type": "markdown",
   "metadata": {},
   "source": [
    "# 3. Борьба с дисбалансом"
   ]
  },
  {
   "cell_type": "markdown",
   "metadata": {},
   "source": [
    "Взвешивание классов.\n",
    "Придадим объектам редкого класса больший вес.\n",
    "В алгоритмах решающего дерева, случайного леса и логистической регрессии в библиотеке sklearn есть аргумент class_weight.\n",
    "Используем его, обучая модели."
   ]
  },
  {
   "cell_type": "code",
   "execution_count": 411,
   "metadata": {},
   "outputs": [],
   "source": [
    "logistic_model = LogisticRegression(random_state=12345, class_weight='balanced')\n",
    "logistic_model.fit(features_train, target_train)\n",
    "logistic_predicted_valid = logistic_model.predict(features_valid)\n",
    "\n",
    "tree_model = DecisionTreeClassifier(random_state=12345, class_weight='balanced')\n",
    "tree_model.fit(features_train, target_train)\n",
    "tree_predicted_valid = tree_model.predict(features_valid)\n",
    "\n",
    "forest_model = RandomForestClassifier(random_state=12345, class_weight='balanced')\n",
    "forest_model.fit(features_train, target_train)\n",
    "forest_predicted_valid = forest_model.predict(features_valid)"
   ]
  },
  {
   "cell_type": "code",
   "execution_count": 412,
   "metadata": {},
   "outputs": [
    {
     "name": "stdout",
     "output_type": "stream",
     "text": [
      "F1-мера Логистической регресии:0.50\n",
      "F1-мера Решающего Дерева:0.46\n",
      "F1-мера Случайного Леса:0.53\n"
     ]
    }
   ],
   "source": [
    "print('F1-мера Логистической регресии:{:.2f}'.format(f1_score(target_valid, logistic_predicted_valid)))\n",
    "print('F1-мера Решающего Дерева:{:.2f}'.format(f1_score(target_valid, tree_predicted_valid)))\n",
    "print('F1-мера Случайного Леса:{:.2f}'.format(f1_score(target_valid, forest_predicted_valid)))"
   ]
  },
  {
   "cell_type": "markdown",
   "metadata": {},
   "source": [
    "### Увеличение выборки upsampling"
   ]
  },
  {
   "cell_type": "markdown",
   "metadata": {},
   "source": [
    "* Разделим обучающую выборку на отрицательные и положительные объекты"
   ]
  },
  {
   "cell_type": "code",
   "execution_count": 413,
   "metadata": {},
   "outputs": [],
   "source": [
    "#features_zeros = features_train[target_train == 0]\n",
    "#features_ones = features_train[target_train == 1]\n",
    "#target_zeros = target_train[target_train == 0]\n",
    "#target_ones = target_train[target_train == 1]\n",
    "\n",
    "#print(features_zeros.shape)\n",
    "#print(features_ones.shape)\n",
    "#print(target_zeros.shape)\n",
    "#print(target_ones.shape)"
   ]
  },
  {
   "cell_type": "markdown",
   "metadata": {},
   "source": [
    "* Скопируем несколько раз положительные объекты\n",
    "* С учётом полученных данных создадим новую обучающую выборку;\n",
    "* Перемешаем данные: идущие друг за другом одинаковые вопросы не помогут обучению."
   ]
  },
  {
   "cell_type": "markdown",
   "metadata": {},
   "source": [
    "Напишем функцию upsample(features, target, repeat) для формирования сблалансированной выборки:"
   ]
  },
  {
   "cell_type": "code",
   "execution_count": 414,
   "metadata": {},
   "outputs": [
    {
     "name": "stdout",
     "output_type": "stream",
     "text": [
      "(9666, 11)\n",
      "(9666,)\n"
     ]
    }
   ],
   "source": [
    "def upsample(features, target, repeat):\n",
    "    \n",
    "    features_zeros = features[target == 0]\n",
    "    features_ones = features[target == 1]\n",
    "    target_zeros = target[target == 0]\n",
    "    target_ones = target[target == 1]\n",
    "    \n",
    "    repeat = repeat\n",
    "    features_upsampled = pd.concat([features_zeros] + [features_ones] * repeat)\n",
    "    target_upsampled = pd.concat([target_zeros] + [target_ones] * repeat)\n",
    "    \n",
    "    features_upsampled, target_upsampled = shuffle(features_upsampled, target_upsampled, random_state=12345)\n",
    "    return features_upsampled, target_upsampled\n",
    "\n",
    "features_upsampled, target_upsampled = upsample(features_train, target_train, 4)\n",
    "\n",
    "print(features_upsampled.shape)\n",
    "print(target_upsampled.shape)"
   ]
  },
  {
   "cell_type": "code",
   "execution_count": 415,
   "metadata": {},
   "outputs": [],
   "source": [
    "#Обучим модели на расширенной выборке:\n",
    "logistic_model = LogisticRegression(random_state=12345, class_weight='balanced')\n",
    "logistic_model.fit(features_upsampled, target_upsampled)\n",
    "logistic_predicted_valid = logistic_model.predict(features_valid)\n",
    "\n",
    "tree_model = DecisionTreeClassifier(random_state=12345, class_weight='balanced')\n",
    "tree_model.fit(features_upsampled, target_upsampled)\n",
    "tree_predicted_valid = tree_model.predict(features_valid)\n",
    "\n",
    "forest_model = RandomForestClassifier(random_state=12345, class_weight='balanced')\n",
    "forest_model.fit(features_upsampled, target_upsampled)\n",
    "forest_predicted_valid = forest_model.predict(features_valid)"
   ]
  },
  {
   "cell_type": "code",
   "execution_count": 416,
   "metadata": {},
   "outputs": [
    {
     "name": "stdout",
     "output_type": "stream",
     "text": [
      "F1-мера Логистической регресии:0.50\n",
      "F1-мера Решающего Дерева:0.48\n",
      "F1-мера Случайного Леса:0.55\n"
     ]
    }
   ],
   "source": [
    "print('F1-мера Логистической регресии:{:.2f}'.format(f1_score(target_valid, logistic_predicted_valid)))\n",
    "print('F1-мера Решающего Дерева:{:.2f}'.format(f1_score(target_valid, tree_predicted_valid)))\n",
    "print('F1-мера Случайного Леса:{:.2f}'.format(f1_score(target_valid, forest_predicted_valid)))"
   ]
  },
  {
   "cell_type": "markdown",
   "metadata": {},
   "source": [
    "### Уменьшение выборки downsampling"
   ]
  },
  {
   "cell_type": "markdown",
   "metadata": {},
   "source": [
    "* Разделим обучающую выборку на отрицательные и положительные объекты\n",
    "* Случайным образом отбросим часть из отрицательных объектов;\n",
    "* С учётом полученных данных создадим новую обучающую выборку;\n",
    "* Перемешаем данные. Положительные не должны идти следом за отрицательными: алгоритмам будет сложнее обучаться.\n",
    "    \n",
    "Напишем функцию downsample(features, target, repeat) для формирования сблалансированной выборки:"
   ]
  },
  {
   "cell_type": "code",
   "execution_count": 417,
   "metadata": {},
   "outputs": [],
   "source": [
    "def downsample(features, target, fraction):\n",
    "    features_zeros = features[target == 0]\n",
    "    features_ones = features[target == 1]\n",
    "    target_zeros = target[target == 0]\n",
    "    target_ones = target[target == 1]\n",
    "\n",
    "    features_downsampled = pd.concat([features_zeros.sample(frac=fraction, random_state=12345)] +\n",
    "                                     [features_ones])\n",
    "    target_downsampled = pd.concat([target_zeros.sample(frac=fraction, random_state=12345)] +\n",
    "                                     [target_ones])\n",
    "    features_downsampled, target_downsampled = shuffle(features_downsampled, target_downsampled,\n",
    "                                                      random_state=12345)\n",
    "    return features_downsampled, target_downsampled\n",
    "\n",
    "features_downsampled, target_downsampled = downsample(features_train, target_train, 0.25)"
   ]
  },
  {
   "cell_type": "code",
   "execution_count": 418,
   "metadata": {},
   "outputs": [],
   "source": [
    "#Обучим модели на уменьшеной выборке:\n",
    "\n",
    "logistic_model = LogisticRegression(random_state=12345)\n",
    "logistic_model.fit(features_downsampled, target_downsampled)\n",
    "logistic_predicted_valid = logistic_model.predict(features_valid)\n",
    "\n",
    "tree_model = DecisionTreeClassifier(random_state=12345)\n",
    "tree_model.fit(features_downsampled, target_downsampled)\n",
    "tree_predicted_valid = tree_model.predict(features_valid)\n",
    "\n",
    "forest_model = RandomForestClassifier(random_state=12345)\n",
    "forest_model.fit(features_downsampled, target_downsampled)\n",
    "forest_predicted_valid = forest_model.predict(features_valid)"
   ]
  },
  {
   "cell_type": "code",
   "execution_count": 419,
   "metadata": {},
   "outputs": [
    {
     "name": "stdout",
     "output_type": "stream",
     "text": [
      "F1-мера Логистической регресии:0.49\n",
      "F1-мера Решающего Дерева:0.46\n",
      "F1-мера Случайного Леса:0.56\n"
     ]
    }
   ],
   "source": [
    "print('F1-мера Логистической регресии:{:.2f}'.format(f1_score(target_valid, logistic_predicted_valid)))\n",
    "print('F1-мера Решающего Дерева:{:.2f}'.format(f1_score(target_valid, tree_predicted_valid)))\n",
    "print('F1-мера Случайного Леса:{:.2f}'.format(f1_score(target_valid, forest_predicted_valid)))"
   ]
  },
  {
   "cell_type": "markdown",
   "metadata": {},
   "source": [
    "Доля истинно положительных ответов TPR - отношение TP-ответов ко всем положительным ответам(P).\n",
    "Доля ложноположительных ответов FPR - отношение FP-ответов ко всем отрицательным ответам (N).\n",
    "\n",
    "ROC-кривая, или кривая ошибок - зависимость доли ложноположительных ответов (FPR) и доли истинно положительных ответов (TPR), в зависимости от значения порога классификации\n",
    "Чтобы выявить, как сильно наша модель отличается от случайной, посчитаем площадь под ROC-кривой — AUC-ROC\n",
    "\n",
    "Напишем функцию auc_roc(model), которая столит roc-кривую и вычисляет AUC-ROC."
   ]
  },
  {
   "cell_type": "code",
   "execution_count": 420,
   "metadata": {},
   "outputs": [],
   "source": [
    "def auc_roc(model, name):\n",
    "    probabilities_valid = model.predict_proba(features_valid)\n",
    "    probabilities_one_valid = probabilities_valid[:, 1]\n",
    "    fpr, tpr, thresholds = roc_curve(target_valid, probabilities_one_valid)\n",
    "    \n",
    "    plt.figure()\n",
    "    plt.plot(fpr, tpr)\n",
    "    plt.plot([0, 1], [0, 1], linestyle='--')\n",
    "    plt.ylim([0.0, 1.0])\n",
    "    plt.xlim([0.0, 1.0])\n",
    "    plt.xlabel('False Positive Rate')\n",
    "    plt.ylabel('True Positive Rate')\n",
    "    plt.title('{} ROC-кривая'.format(name))\n",
    "    plt.show()\n",
    "    \n",
    "    auc_roc = roc_auc_score(target_valid, probabilities_one_valid)\n",
    "    print('AUC-ROC равно:', auc_roc)\n",
    "    return"
   ]
  },
  {
   "cell_type": "code",
   "execution_count": 421,
   "metadata": {},
   "outputs": [
    {
     "data": {
      "image/png": "[encoded data removed]",
      "text/plain": [
       "<Figure size 432x288 with 1 Axes>"
      ]
     },
     "metadata": {
      "needs_background": "light"
     },
     "output_type": "display_data"
    },
    {
     "name": "stdout",
     "output_type": "stream",
     "text": [
      "AUC-ROC равно: 0.7723053985017143\n"
     ]
    }
   ],
   "source": [
    "auc_roc(logistic_model, 'Логистическая регрессия')"
   ]
  },
  {
   "cell_type": "code",
   "execution_count": 422,
   "metadata": {},
   "outputs": [
    {
     "data": {
      "image/png": "[encoded data removed]",
      "text/plain": [
       "<Figure size 432x288 with 1 Axes>"
      ]
     },
     "metadata": {
      "needs_background": "light"
     },
     "output_type": "display_data"
    },
    {
     "name": "stdout",
     "output_type": "stream",
     "text": [
      "AUC-ROC равно: 0.6858527559968782\n"
     ]
    }
   ],
   "source": [
    "auc_roc(tree_model, 'Решающее дерево')"
   ]
  },
  {
   "cell_type": "code",
   "execution_count": 423,
   "metadata": {},
   "outputs": [
    {
     "data": {
      "image/png": "[encoded data removed]",
      "text/plain": [
       "<Figure size 432x288 with 1 Axes>"
      ]
     },
     "metadata": {
      "needs_background": "light"
     },
     "output_type": "display_data"
    },
    {
     "name": "stdout",
     "output_type": "stream",
     "text": [
      "AUC-ROC равно: 0.8163598619657012\n"
     ]
    }
   ],
   "source": [
    "auc_roc(forest_model, 'Случайный лес')"
   ]
  },
  {
   "cell_type": "markdown",
   "metadata": {},
   "source": [
    "### Подборка гиперпараметров"
   ]
  },
  {
   "cell_type": "markdown",
   "metadata": {},
   "source": [
    "#### 1. Решающее дерево - DecisionTreeClassifier"
   ]
  },
  {
   "cell_type": "code",
   "execution_count": 424,
   "metadata": {},
   "outputs": [
    {
     "data": {
      "text/plain": [
       "0.47969543147208116"
      ]
     },
     "execution_count": 424,
     "metadata": {},
     "output_type": "execute_result"
    }
   ],
   "source": [
    "tree_model = DecisionTreeClassifier(random_state=12345)\n",
    "tree_model.fit(features_upsampled, target_upsampled)\n",
    "tree_predicted_valid = tree_model.predict(features_valid)\n",
    "f1_score(target_valid, tree_predicted_valid)"
   ]
  },
  {
   "cell_type": "code",
   "execution_count": 425,
   "metadata": {},
   "outputs": [
    {
     "name": "stdout",
     "output_type": "stream",
     "text": [
      "{'criterion': ['gini', 'entropy'], 'max_depth': [5, 7, 10, 12, 15], 'min_samples_split': [2, 5, 10], 'min_samples_leaf': [1, 2, 4], 'class_weight': ['balanced']}\n"
     ]
    }
   ],
   "source": [
    "criterion = ['gini', 'entropy']\n",
    "max_depth = [int(x) for x in np.linspace(start=5, stop=15, num=5)]\n",
    "min_samples_split = [2, 5, 10]\n",
    "min_samples_leaf = [1, 2, 4]\n",
    "class_weight = ['balanced']\n",
    "\n",
    "tree_grid = {'criterion': criterion,\n",
    "             'max_depth': max_depth,\n",
    "             'min_samples_split': min_samples_split,\n",
    "             'min_samples_leaf': min_samples_leaf,\n",
    "             'class_weight': class_weight\n",
    "            }\n",
    "\n",
    "\n",
    "print(tree_grid)"
   ]
  },
  {
   "cell_type": "code",
   "execution_count": 426,
   "metadata": {},
   "outputs": [],
   "source": [
    "tree_test_model = DecisionTreeClassifier(random_state=12345)"
   ]
  },
  {
   "cell_type": "code",
   "execution_count": 427,
   "metadata": {},
   "outputs": [
    {
     "name": "stdout",
     "output_type": "stream",
     "text": [
      "Fitting 3 folds for each of 10 candidates, totalling 30 fits\n",
      "[CV] min_samples_split=2, min_samples_leaf=4, max_depth=7, criterion=entropy, class_weight=balanced \n",
      "[CV]  min_samples_split=2, min_samples_leaf=4, max_depth=7, criterion=entropy, class_weight=balanced, total=   0.0s\n",
      "[CV] min_samples_split=2, min_samples_leaf=4, max_depth=7, criterion=entropy, class_weight=balanced \n",
      "[CV]  min_samples_split=2, min_samples_leaf=4, max_depth=7, criterion=entropy, class_weight=balanced, total=   0.0s\n",
      "[CV] min_samples_split=2, min_samples_leaf=4, max_depth=7, criterion=entropy, class_weight=balanced \n",
      "[CV]  min_samples_split=2, min_samples_leaf=4, max_depth=7, criterion=entropy, class_weight=balanced, total=   0.0s\n",
      "[CV] min_samples_split=5, min_samples_leaf=4, max_depth=10, criterion=entropy, class_weight=balanced \n",
      "[CV]  min_samples_split=5, min_samples_leaf=4, max_depth=10, criterion=entropy, class_weight=balanced, total=   0.0s\n",
      "[CV] min_samples_split=5, min_samples_leaf=4, max_depth=10, criterion=entropy, class_weight=balanced \n",
      "[CV]  min_samples_split=5, min_samples_leaf=4, max_depth=10, criterion=entropy, class_weight=balanced, total=   0.0s\n",
      "[CV] min_samples_split=5, min_samples_leaf=4, max_depth=10, criterion=entropy, class_weight=balanced \n",
      "[CV]  min_samples_split=5, min_samples_leaf=4, max_depth=10, criterion=entropy, class_weight=balanced, total=   0.0s\n",
      "[CV] min_samples_split=10, min_samples_leaf=1, max_depth=12, criterion=gini, class_weight=balanced \n"
     ]
    },
    {
     "name": "stderr",
     "output_type": "stream",
     "text": [
      "[Parallel(n_jobs=-1)]: Using backend SequentialBackend with 1 concurrent workers.\n",
      "[Parallel(n_jobs=-1)]: Done   1 out of   1 | elapsed:    0.0s remaining:    0.0s\n"
     ]
    },
    {
     "name": "stdout",
     "output_type": "stream",
     "text": [
      "[CV]  min_samples_split=10, min_samples_leaf=1, max_depth=12, criterion=gini, class_weight=balanced, total=   0.0s\n",
      "[CV] min_samples_split=10, min_samples_leaf=1, max_depth=12, criterion=gini, class_weight=balanced \n",
      "[CV]  min_samples_split=10, min_samples_leaf=1, max_depth=12, criterion=gini, class_weight=balanced, total=   0.0s\n",
      "[CV] min_samples_split=10, min_samples_leaf=1, max_depth=12, criterion=gini, class_weight=balanced \n",
      "[CV]  min_samples_split=10, min_samples_leaf=1, max_depth=12, criterion=gini, class_weight=balanced, total=   0.0s\n",
      "[CV] min_samples_split=10, min_samples_leaf=4, max_depth=5, criterion=entropy, class_weight=balanced \n",
      "[CV]  min_samples_split=10, min_samples_leaf=4, max_depth=5, criterion=entropy, class_weight=balanced, total=   0.0s\n",
      "[CV] min_samples_split=10, min_samples_leaf=4, max_depth=5, criterion=entropy, class_weight=balanced \n",
      "[CV]  min_samples_split=10, min_samples_leaf=4, max_depth=5, criterion=entropy, class_weight=balanced, total=   0.0s\n",
      "[CV] min_samples_split=10, min_samples_leaf=4, max_depth=5, criterion=entropy, class_weight=balanced \n",
      "[CV]  min_samples_split=10, min_samples_leaf=4, max_depth=5, criterion=entropy, class_weight=balanced, total=   0.0s\n",
      "[CV] min_samples_split=10, min_samples_leaf=2, max_depth=15, criterion=entropy, class_weight=balanced \n",
      "[CV]  min_samples_split=10, min_samples_leaf=2, max_depth=15, criterion=entropy, class_weight=balanced, total=   0.0s\n",
      "[CV] min_samples_split=10, min_samples_leaf=2, max_depth=15, criterion=entropy, class_weight=balanced \n",
      "[CV]  min_samples_split=10, min_samples_leaf=2, max_depth=15, criterion=entropy, class_weight=balanced, total=   0.0s\n",
      "[CV] min_samples_split=10, min_samples_leaf=2, max_depth=15, criterion=entropy, class_weight=balanced \n",
      "[CV]  min_samples_split=10, min_samples_leaf=2, max_depth=15, criterion=entropy, class_weight=balanced, total=   0.0s\n",
      "[CV] min_samples_split=5, min_samples_leaf=2, max_depth=5, criterion=gini, class_weight=balanced \n",
      "[CV]  min_samples_split=5, min_samples_leaf=2, max_depth=5, criterion=gini, class_weight=balanced, total=   0.0s\n",
      "[CV] min_samples_split=5, min_samples_leaf=2, max_depth=5, criterion=gini, class_weight=balanced \n",
      "[CV]  min_samples_split=5, min_samples_leaf=2, max_depth=5, criterion=gini, class_weight=balanced, total=   0.0s\n",
      "[CV] min_samples_split=5, min_samples_leaf=2, max_depth=5, criterion=gini, class_weight=balanced \n",
      "[CV]  min_samples_split=5, min_samples_leaf=2, max_depth=5, criterion=gini, class_weight=balanced, total=   0.0s\n",
      "[CV] min_samples_split=5, min_samples_leaf=2, max_depth=12, criterion=gini, class_weight=balanced \n",
      "[CV]  min_samples_split=5, min_samples_leaf=2, max_depth=12, criterion=gini, class_weight=balanced, total=   0.0s\n",
      "[CV] min_samples_split=5, min_samples_leaf=2, max_depth=12, criterion=gini, class_weight=balanced \n",
      "[CV]  min_samples_split=5, min_samples_leaf=2, max_depth=12, criterion=gini, class_weight=balanced, total=   0.0s\n",
      "[CV] min_samples_split=5, min_samples_leaf=2, max_depth=12, criterion=gini, class_weight=balanced \n",
      "[CV]  min_samples_split=5, min_samples_leaf=2, max_depth=12, criterion=gini, class_weight=balanced, total=   0.0s\n",
      "[CV] min_samples_split=5, min_samples_leaf=2, max_depth=12, criterion=entropy, class_weight=balanced \n",
      "[CV]  min_samples_split=5, min_samples_leaf=2, max_depth=12, criterion=entropy, class_weight=balanced, total=   0.0s\n",
      "[CV] min_samples_split=5, min_samples_leaf=2, max_depth=12, criterion=entropy, class_weight=balanced \n",
      "[CV]  min_samples_split=5, min_samples_leaf=2, max_depth=12, criterion=entropy, class_weight=balanced, total=   0.0s\n",
      "[CV] min_samples_split=5, min_samples_leaf=2, max_depth=12, criterion=entropy, class_weight=balanced \n",
      "[CV]  min_samples_split=5, min_samples_leaf=2, max_depth=12, criterion=entropy, class_weight=balanced, total=   0.0s\n",
      "[CV] min_samples_split=2, min_samples_leaf=2, max_depth=12, criterion=entropy, class_weight=balanced \n",
      "[CV]  min_samples_split=2, min_samples_leaf=2, max_depth=12, criterion=entropy, class_weight=balanced, total=   0.0s\n",
      "[CV] min_samples_split=2, min_samples_leaf=2, max_depth=12, criterion=entropy, class_weight=balanced \n",
      "[CV]  min_samples_split=2, min_samples_leaf=2, max_depth=12, criterion=entropy, class_weight=balanced, total=   0.0s\n",
      "[CV] min_samples_split=2, min_samples_leaf=2, max_depth=12, criterion=entropy, class_weight=balanced \n",
      "[CV]  min_samples_split=2, min_samples_leaf=2, max_depth=12, criterion=entropy, class_weight=balanced, total=   0.0s\n",
      "[CV] min_samples_split=2, min_samples_leaf=4, max_depth=10, criterion=entropy, class_weight=balanced \n",
      "[CV]  min_samples_split=2, min_samples_leaf=4, max_depth=10, criterion=entropy, class_weight=balanced, total=   0.0s\n",
      "[CV] min_samples_split=2, min_samples_leaf=4, max_depth=10, criterion=entropy, class_weight=balanced \n",
      "[CV]  min_samples_split=2, min_samples_leaf=4, max_depth=10, criterion=entropy, class_weight=balanced, total=   0.0s\n",
      "[CV] min_samples_split=2, min_samples_leaf=4, max_depth=10, criterion=entropy, class_weight=balanced \n",
      "[CV]  min_samples_split=2, min_samples_leaf=4, max_depth=10, criterion=entropy, class_weight=balanced, total=   0.0s\n"
     ]
    },
    {
     "name": "stderr",
     "output_type": "stream",
     "text": [
      "[Parallel(n_jobs=-1)]: Done  30 out of  30 | elapsed:    0.9s finished\n"
     ]
    },
    {
     "data": {
      "text/plain": [
       "RandomizedSearchCV(cv='warn', error_score='raise-deprecating',\n",
       "                   estimator=DecisionTreeClassifier(class_weight=None,\n",
       "                                                    criterion='gini',\n",
       "                                                    max_depth=None,\n",
       "                                                    max_features=None,\n",
       "                                                    max_leaf_nodes=None,\n",
       "                                                    min_impurity_decrease=0.0,\n",
       "                                                    min_impurity_split=None,\n",
       "                                                    min_samples_leaf=1,\n",
       "                                                    min_samples_split=2,\n",
       "                                                    min_weight_fraction_leaf=0.0,\n",
       "                                                    presort=False,\n",
       "                                                    random_state=12345,\n",
       "                                                    splitter='best'),\n",
       "                   iid='warn', n_iter=10, n_jobs=-1,\n",
       "                   param_distributions={'class_weight': ['balanced'],\n",
       "                                        'criterion': ['gini', 'entropy'],\n",
       "                                        'max_depth': [5, 7, 10, 12, 15],\n",
       "                                        'min_samples_leaf': [1, 2, 4],\n",
       "                                        'min_samples_split': [2, 5, 10]},\n",
       "                   pre_dispatch='2*n_jobs', random_state=123, refit='f1',\n",
       "                   return_train_score=False, scoring='f1', verbose=2)"
      ]
     },
     "execution_count": 427,
     "metadata": {},
     "output_type": "execute_result"
    }
   ],
   "source": [
    "tree_random = RandomizedSearchCV(estimator=tree_test_model, scoring='f1',\n",
    "                                 param_distributions=tree_grid, verbose=2, refit='f1',\n",
    "                                 random_state=123, n_jobs=-1)\n",
    "\n",
    "tree_random.fit(features_train, target_train)"
   ]
  },
  {
   "cell_type": "code",
   "execution_count": 428,
   "metadata": {},
   "outputs": [
    {
     "name": "stdout",
     "output_type": "stream",
     "text": [
      "best cv f1-score:  0.55\n"
     ]
    }
   ],
   "source": [
    "print(\"best cv f1-score: \", round(tree_random.best_score_, 2))"
   ]
  },
  {
   "cell_type": "code",
   "execution_count": 429,
   "metadata": {},
   "outputs": [
    {
     "name": "stdout",
     "output_type": "stream",
     "text": [
      "best params:\n"
     ]
    },
    {
     "data": {
      "text/plain": [
       "{'min_samples_split': 2,\n",
       " 'min_samples_leaf': 4,\n",
       " 'max_depth': 7,\n",
       " 'criterion': 'entropy',\n",
       " 'class_weight': 'balanced'}"
      ]
     },
     "execution_count": 429,
     "metadata": {},
     "output_type": "execute_result"
    }
   ],
   "source": [
    "print(\"best params:\")\n",
    "tree_random.best_params_"
   ]
  },
  {
   "cell_type": "markdown",
   "metadata": {},
   "source": [
    "max_depth - максимальная глубина дерева. Переберем в цикле значения от 1 до 20:"
   ]
  },
  {
   "cell_type": "code",
   "execution_count": 430,
   "metadata": {},
   "outputs": [
    {
     "name": "stdout",
     "output_type": "stream",
     "text": [
      "F1 = 0.63, AUC = 0.87\n",
      "CPU times: user 45.1 ms, sys: 24 µs, total: 45.1 ms\n",
      "Wall time: 44.1 ms\n"
     ]
    }
   ],
   "source": [
    "%%time\n",
    "\n",
    "tree_balance_model = DecisionTreeClassifier(random_state=321, **tree_random.best_params_\n",
    "                                           ).fit(features_train, target_train)\n",
    "tree_balance_predictions = tree_balance_model.predict(features_test)\n",
    "tree_balance_probas = tree_balance_model.predict_proba(features_test)\n",
    "auc_roc = roc_auc_score(target_test, tree_balance_probas[:, 1])\n",
    "\n",
    "print(\"F1 = {:.2f}, AUC = {:.2f}\".format(\n",
    "    f1_score(target_test, tree_balance_predictions), auc_roc))"
   ]
  },
  {
   "cell_type": "code",
   "execution_count": 431,
   "metadata": {},
   "outputs": [
    {
     "name": "stdout",
     "output_type": "stream",
     "text": [
      "Глубина дерева: 1 F1-мера: 0.4838160136286202\n",
      "Глубина дерева: 2 F1-мера: 0.5\n",
      "Глубина дерева: 3 F1-мера: 0.5\n",
      "Глубина дерева: 4 F1-мера: 0.5406871609403254\n",
      "Глубина дерева: 5 F1-мера: 0.5186385737439222\n",
      "Глубина дерева: 6 F1-мера: 0.5343228200371057\n",
      "Глубина дерева: 7 F1-мера: 0.5424354243542435\n",
      "Глубина дерева: 8 F1-мера: 0.5359116022099447\n",
      "Глубина дерева: 9 F1-мера: 0.5200803212851406\n",
      "Глубина дерева: 10 F1-мера: 0.5143442622950819\n",
      "Глубина дерева: 11 F1-мера: 0.5188374596340151\n",
      "Глубина дерева: 12 F1-мера: 0.5069222577209799\n",
      "Глубина дерева: 13 F1-мера: 0.4994400895856664\n",
      "Глубина дерева: 14 F1-мера: 0.49191685912240185\n",
      "Глубина дерева: 15 F1-мера: 0.47904191616766467\n",
      "Глубина дерева: 16 F1-мера: 0.4779411764705882\n",
      "Глубина дерева: 17 F1-мера: 0.4778325123152709\n",
      "Глубина дерева: 18 F1-мера: 0.4846938775510204\n",
      "Глубина дерева: 19 F1-мера: 0.4910941475826972\n",
      "Глубина дерева: 20 F1-мера: 0.4816223067173637\n",
      "CPU times: user 848 ms, sys: 241 µs, total: 849 ms\n",
      "Wall time: 889 ms\n"
     ]
    }
   ],
   "source": [
    "%%time\n",
    "for depth in range(1,21):\n",
    "    tree_model = DecisionTreeClassifier(random_state=12345, max_depth=depth)\n",
    "    tree_model.fit(features_upsampled, target_upsampled)\n",
    "    tree_predicted_valid = tree_model.predict(features_valid)\n",
    "    print('Глубина дерева:', depth, 'F1-мера:', f1_score(target_valid, tree_predicted_valid))"
   ]
  },
  {
   "cell_type": "markdown",
   "metadata": {},
   "source": [
    "Изменим критерий Джини на энтропию:"
   ]
  },
  {
   "cell_type": "markdown",
   "metadata": {},
   "source": [
    "#### 2. Случайный лес - RandomForestClassifier"
   ]
  },
  {
   "cell_type": "code",
   "execution_count": 432,
   "metadata": {},
   "outputs": [
    {
     "data": {
      "text/plain": [
       "0.563894523326572"
      ]
     },
     "execution_count": 432,
     "metadata": {},
     "output_type": "execute_result"
    }
   ],
   "source": [
    "forest_model = RandomForestClassifier(random_state=12345)\n",
    "forest_model.fit(features_downsampled, target_downsampled)\n",
    "forest_predicted_valid = forest_model.predict(features_valid)\n",
    "f1_score(target_valid, forest_predicted_valid)"
   ]
  },
  {
   "cell_type": "markdown",
   "metadata": {},
   "source": [
    "n_estimators - количество деревьев. Переберем в цикле значения от 5 до 100 с шагом 5:n_estimators - количество деревьев. Переберем в цикле значения от 5 до 100 с шагом 5:"
   ]
  },
  {
   "cell_type": "code",
   "execution_count": 433,
   "metadata": {},
   "outputs": [
    {
     "name": "stdout",
     "output_type": "stream",
     "text": [
      "{'n_estimators': [100, 150, 200], 'max_depth': [3, 5, 7, 9, 12], 'criterion': ['gini', 'entropy'], 'min_samples_split': [2, 5, 10], 'min_samples_leaf': [1, 2, 4], 'bootstrap': [True, False], 'class_weight': ['balanced', 'balanced_subsample', None]}\n"
     ]
    }
   ],
   "source": [
    "n_estimators = [int(x) for x in np.linspace(start=100, stop=200, num=3)]\n",
    "max_depth = [int(x) for x in np.linspace(start=3, stop=12, num=5)]\n",
    "criterion = ['gini', 'entropy']\n",
    "min_samples_split = [2, 5, 10]\n",
    "min_samples_leaf = [1, 2, 4]\n",
    "bootstrap = [True, False]\n",
    "class_weight = ['balanced', 'balanced_subsample', None]\n",
    "\n",
    "forest_grid = {'n_estimators': n_estimators,\n",
    "               'max_depth': max_depth,\n",
    "               'criterion': criterion,\n",
    "               'min_samples_split': min_samples_split,\n",
    "               'min_samples_leaf': min_samples_leaf,\n",
    "               'bootstrap': bootstrap,\n",
    "               'class_weight': class_weight\n",
    "              }\n",
    "\n",
    "\n",
    "print(forest_grid)"
   ]
  },
  {
   "cell_type": "code",
   "execution_count": 434,
   "metadata": {},
   "outputs": [],
   "source": [
    "forest_test_model = RandomForestClassifier(random_state=12345)"
   ]
  },
  {
   "cell_type": "code",
   "execution_count": 435,
   "metadata": {},
   "outputs": [
    {
     "name": "stdout",
     "output_type": "stream",
     "text": [
      "Fitting 3 folds for each of 10 candidates, totalling 30 fits\n",
      "[CV] n_estimators=200, min_samples_split=5, min_samples_leaf=4, max_depth=7, criterion=entropy, class_weight=balanced_subsample, bootstrap=True \n"
     ]
    },
    {
     "name": "stderr",
     "output_type": "stream",
     "text": [
      "[Parallel(n_jobs=-1)]: Using backend SequentialBackend with 1 concurrent workers.\n"
     ]
    },
    {
     "name": "stdout",
     "output_type": "stream",
     "text": [
      "[CV]  n_estimators=200, min_samples_split=5, min_samples_leaf=4, max_depth=7, criterion=entropy, class_weight=balanced_subsample, bootstrap=True, total=   1.4s\n",
      "[CV] n_estimators=200, min_samples_split=5, min_samples_leaf=4, max_depth=7, criterion=entropy, class_weight=balanced_subsample, bootstrap=True \n"
     ]
    },
    {
     "name": "stderr",
     "output_type": "stream",
     "text": [
      "[Parallel(n_jobs=-1)]: Done   1 out of   1 | elapsed:    1.4s remaining:    0.0s\n"
     ]
    },
    {
     "name": "stdout",
     "output_type": "stream",
     "text": [
      "[CV]  n_estimators=200, min_samples_split=5, min_samples_leaf=4, max_depth=7, criterion=entropy, class_weight=balanced_subsample, bootstrap=True, total=   1.6s\n",
      "[CV] n_estimators=200, min_samples_split=5, min_samples_leaf=4, max_depth=7, criterion=entropy, class_weight=balanced_subsample, bootstrap=True \n",
      "[CV]  n_estimators=200, min_samples_split=5, min_samples_leaf=4, max_depth=7, criterion=entropy, class_weight=balanced_subsample, bootstrap=True, total=   1.4s\n",
      "[CV] n_estimators=100, min_samples_split=10, min_samples_leaf=4, max_depth=3, criterion=entropy, class_weight=None, bootstrap=False \n",
      "[CV]  n_estimators=100, min_samples_split=10, min_samples_leaf=4, max_depth=3, criterion=entropy, class_weight=None, bootstrap=False, total=   0.4s\n",
      "[CV] n_estimators=100, min_samples_split=10, min_samples_leaf=4, max_depth=3, criterion=entropy, class_weight=None, bootstrap=False \n",
      "[CV]  n_estimators=100, min_samples_split=10, min_samples_leaf=4, max_depth=3, criterion=entropy, class_weight=None, bootstrap=False, total=   0.4s\n",
      "[CV] n_estimators=100, min_samples_split=10, min_samples_leaf=4, max_depth=3, criterion=entropy, class_weight=None, bootstrap=False \n",
      "[CV]  n_estimators=100, min_samples_split=10, min_samples_leaf=4, max_depth=3, criterion=entropy, class_weight=None, bootstrap=False, total=   0.4s\n",
      "[CV] n_estimators=150, min_samples_split=5, min_samples_leaf=2, max_depth=9, criterion=entropy, class_weight=balanced_subsample, bootstrap=False \n",
      "[CV]  n_estimators=150, min_samples_split=5, min_samples_leaf=2, max_depth=9, criterion=entropy, class_weight=balanced_subsample, bootstrap=False, total=   1.3s\n",
      "[CV] n_estimators=150, min_samples_split=5, min_samples_leaf=2, max_depth=9, criterion=entropy, class_weight=balanced_subsample, bootstrap=False \n",
      "[CV]  n_estimators=150, min_samples_split=5, min_samples_leaf=2, max_depth=9, criterion=entropy, class_weight=balanced_subsample, bootstrap=False, total=   1.3s\n",
      "[CV] n_estimators=150, min_samples_split=5, min_samples_leaf=2, max_depth=9, criterion=entropy, class_weight=balanced_subsample, bootstrap=False \n",
      "[CV]  n_estimators=150, min_samples_split=5, min_samples_leaf=2, max_depth=9, criterion=entropy, class_weight=balanced_subsample, bootstrap=False, total=   1.3s\n",
      "[CV] n_estimators=100, min_samples_split=5, min_samples_leaf=4, max_depth=12, criterion=gini, class_weight=balanced, bootstrap=True \n",
      "[CV]  n_estimators=100, min_samples_split=5, min_samples_leaf=4, max_depth=12, criterion=gini, class_weight=balanced, bootstrap=True, total=   0.8s\n",
      "[CV] n_estimators=100, min_samples_split=5, min_samples_leaf=4, max_depth=12, criterion=gini, class_weight=balanced, bootstrap=True \n",
      "[CV]  n_estimators=100, min_samples_split=5, min_samples_leaf=4, max_depth=12, criterion=gini, class_weight=balanced, bootstrap=True, total=   0.6s\n",
      "[CV] n_estimators=100, min_samples_split=5, min_samples_leaf=4, max_depth=12, criterion=gini, class_weight=balanced, bootstrap=True \n",
      "[CV]  n_estimators=100, min_samples_split=5, min_samples_leaf=4, max_depth=12, criterion=gini, class_weight=balanced, bootstrap=True, total=   0.6s\n",
      "[CV] n_estimators=150, min_samples_split=5, min_samples_leaf=2, max_depth=9, criterion=gini, class_weight=None, bootstrap=False \n",
      "[CV]  n_estimators=150, min_samples_split=5, min_samples_leaf=2, max_depth=9, criterion=gini, class_weight=None, bootstrap=False, total=   1.1s\n",
      "[CV] n_estimators=150, min_samples_split=5, min_samples_leaf=2, max_depth=9, criterion=gini, class_weight=None, bootstrap=False \n",
      "[CV]  n_estimators=150, min_samples_split=5, min_samples_leaf=2, max_depth=9, criterion=gini, class_weight=None, bootstrap=False, total=   1.1s\n",
      "[CV] n_estimators=150, min_samples_split=5, min_samples_leaf=2, max_depth=9, criterion=gini, class_weight=None, bootstrap=False \n",
      "[CV]  n_estimators=150, min_samples_split=5, min_samples_leaf=2, max_depth=9, criterion=gini, class_weight=None, bootstrap=False, total=   1.2s\n",
      "[CV] n_estimators=100, min_samples_split=2, min_samples_leaf=4, max_depth=9, criterion=gini, class_weight=None, bootstrap=False \n",
      "[CV]  n_estimators=100, min_samples_split=2, min_samples_leaf=4, max_depth=9, criterion=gini, class_weight=None, bootstrap=False, total=   0.8s\n",
      "[CV] n_estimators=100, min_samples_split=2, min_samples_leaf=4, max_depth=9, criterion=gini, class_weight=None, bootstrap=False \n",
      "[CV]  n_estimators=100, min_samples_split=2, min_samples_leaf=4, max_depth=9, criterion=gini, class_weight=None, bootstrap=False, total=   0.8s\n",
      "[CV] n_estimators=100, min_samples_split=2, min_samples_leaf=4, max_depth=9, criterion=gini, class_weight=None, bootstrap=False \n",
      "[CV]  n_estimators=100, min_samples_split=2, min_samples_leaf=4, max_depth=9, criterion=gini, class_weight=None, bootstrap=False, total=   0.7s\n",
      "[CV] n_estimators=150, min_samples_split=5, min_samples_leaf=1, max_depth=12, criterion=gini, class_weight=balanced_subsample, bootstrap=True \n",
      "[CV]  n_estimators=150, min_samples_split=5, min_samples_leaf=1, max_depth=12, criterion=gini, class_weight=balanced_subsample, bootstrap=True, total=   1.2s\n",
      "[CV] n_estimators=150, min_samples_split=5, min_samples_leaf=1, max_depth=12, criterion=gini, class_weight=balanced_subsample, bootstrap=True \n",
      "[CV]  n_estimators=150, min_samples_split=5, min_samples_leaf=1, max_depth=12, criterion=gini, class_weight=balanced_subsample, bootstrap=True, total=   1.1s\n",
      "[CV] n_estimators=150, min_samples_split=5, min_samples_leaf=1, max_depth=12, criterion=gini, class_weight=balanced_subsample, bootstrap=True \n",
      "[CV]  n_estimators=150, min_samples_split=5, min_samples_leaf=1, max_depth=12, criterion=gini, class_weight=balanced_subsample, bootstrap=True, total=   1.2s\n",
      "[CV] n_estimators=150, min_samples_split=5, min_samples_leaf=1, max_depth=5, criterion=gini, class_weight=None, bootstrap=False \n",
      "[CV]  n_estimators=150, min_samples_split=5, min_samples_leaf=1, max_depth=5, criterion=gini, class_weight=None, bootstrap=False, total=   0.8s\n",
      "[CV] n_estimators=150, min_samples_split=5, min_samples_leaf=1, max_depth=5, criterion=gini, class_weight=None, bootstrap=False \n",
      "[CV]  n_estimators=150, min_samples_split=5, min_samples_leaf=1, max_depth=5, criterion=gini, class_weight=None, bootstrap=False, total=   0.7s\n",
      "[CV] n_estimators=150, min_samples_split=5, min_samples_leaf=1, max_depth=5, criterion=gini, class_weight=None, bootstrap=False \n",
      "[CV]  n_estimators=150, min_samples_split=5, min_samples_leaf=1, max_depth=5, criterion=gini, class_weight=None, bootstrap=False, total=   0.9s\n",
      "[CV] n_estimators=100, min_samples_split=10, min_samples_leaf=1, max_depth=3, criterion=gini, class_weight=None, bootstrap=True \n",
      "[CV]  n_estimators=100, min_samples_split=10, min_samples_leaf=1, max_depth=3, criterion=gini, class_weight=None, bootstrap=True, total=   0.5s\n",
      "[CV] n_estimators=100, min_samples_split=10, min_samples_leaf=1, max_depth=3, criterion=gini, class_weight=None, bootstrap=True \n",
      "[CV]  n_estimators=100, min_samples_split=10, min_samples_leaf=1, max_depth=3, criterion=gini, class_weight=None, bootstrap=True, total=   0.5s\n",
      "[CV] n_estimators=100, min_samples_split=10, min_samples_leaf=1, max_depth=3, criterion=gini, class_weight=None, bootstrap=True \n",
      "[CV]  n_estimators=100, min_samples_split=10, min_samples_leaf=1, max_depth=3, criterion=gini, class_weight=None, bootstrap=True, total=   0.5s\n",
      "[CV] n_estimators=200, min_samples_split=10, min_samples_leaf=4, max_depth=7, criterion=entropy, class_weight=None, bootstrap=False \n",
      "[CV]  n_estimators=200, min_samples_split=10, min_samples_leaf=4, max_depth=7, criterion=entropy, class_weight=None, bootstrap=False, total=   1.8s\n",
      "[CV] n_estimators=200, min_samples_split=10, min_samples_leaf=4, max_depth=7, criterion=entropy, class_weight=None, bootstrap=False \n",
      "[CV]  n_estimators=200, min_samples_split=10, min_samples_leaf=4, max_depth=7, criterion=entropy, class_weight=None, bootstrap=False, total=   1.9s\n",
      "[CV] n_estimators=200, min_samples_split=10, min_samples_leaf=4, max_depth=7, criterion=entropy, class_weight=None, bootstrap=False \n",
      "[CV]  n_estimators=200, min_samples_split=10, min_samples_leaf=4, max_depth=7, criterion=entropy, class_weight=None, bootstrap=False, total=   1.8s\n"
     ]
    },
    {
     "name": "stderr",
     "output_type": "stream",
     "text": [
      "[Parallel(n_jobs=-1)]: Done  30 out of  30 | elapsed:   30.1s finished\n"
     ]
    },
    {
     "data": {
      "text/plain": [
       "RandomizedSearchCV(cv='warn', error_score='raise-deprecating',\n",
       "                   estimator=RandomForestClassifier(bootstrap=True,\n",
       "                                                    class_weight=None,\n",
       "                                                    criterion='gini',\n",
       "                                                    max_depth=None,\n",
       "                                                    max_features='auto',\n",
       "                                                    max_leaf_nodes=None,\n",
       "                                                    min_impurity_decrease=0.0,\n",
       "                                                    min_impurity_split=None,\n",
       "                                                    min_samples_leaf=1,\n",
       "                                                    min_samples_split=2,\n",
       "                                                    min_weight_fraction_leaf=0.0,\n",
       "                                                    n_estimators='warn',\n",
       "                                                    n_jobs=None,\n",
       "                                                    o...\n",
       "                   iid='warn', n_iter=10, n_jobs=-1,\n",
       "                   param_distributions={'bootstrap': [True, False],\n",
       "                                        'class_weight': ['balanced',\n",
       "                                                         'balanced_subsample',\n",
       "                                                         None],\n",
       "                                        'criterion': ['gini', 'entropy'],\n",
       "                                        'max_depth': [3, 5, 7, 9, 12],\n",
       "                                        'min_samples_leaf': [1, 2, 4],\n",
       "                                        'min_samples_split': [2, 5, 10],\n",
       "                                        'n_estimators': [100, 150, 200]},\n",
       "                   pre_dispatch='2*n_jobs', random_state=12345, refit='f1',\n",
       "                   return_train_score=False, scoring='f1', verbose=2)"
      ]
     },
     "execution_count": 435,
     "metadata": {},
     "output_type": "execute_result"
    }
   ],
   "source": [
    "forest_random = RandomizedSearchCV(estimator=forest_test_model, scoring='f1',\n",
    "                                   param_distributions=forest_grid, verbose=2,\n",
    "                                   refit='f1', random_state=12345, n_jobs=-1)\n",
    "\n",
    "forest_random.fit(features_train, target_train)"
   ]
  },
  {
   "cell_type": "code",
   "execution_count": 436,
   "metadata": {},
   "outputs": [
    {
     "name": "stdout",
     "output_type": "stream",
     "text": [
      "best cv f1-score:  0.61\n"
     ]
    }
   ],
   "source": [
    "print(\"best cv f1-score: \", round(forest_random.best_score_, 2))"
   ]
  },
  {
   "cell_type": "code",
   "execution_count": 437,
   "metadata": {},
   "outputs": [
    {
     "name": "stdout",
     "output_type": "stream",
     "text": [
      "best params:\n"
     ]
    },
    {
     "data": {
      "text/plain": [
       "{'n_estimators': 100,\n",
       " 'min_samples_split': 5,\n",
       " 'min_samples_leaf': 4,\n",
       " 'max_depth': 12,\n",
       " 'criterion': 'gini',\n",
       " 'class_weight': 'balanced',\n",
       " 'bootstrap': True}"
      ]
     },
     "execution_count": 437,
     "metadata": {},
     "output_type": "execute_result"
    }
   ],
   "source": [
    "print(\"best params:\")\n",
    "forest_random.best_params_"
   ]
  },
  {
   "cell_type": "code",
   "execution_count": 438,
   "metadata": {},
   "outputs": [
    {
     "name": "stdout",
     "output_type": "stream",
     "text": [
      "F1 = 0.64, AUC = 0.87\n",
      "CPU times: user 865 ms, sys: 3.98 ms, total: 869 ms\n",
      "Wall time: 889 ms\n"
     ]
    }
   ],
   "source": [
    "%%time\n",
    "\n",
    "forest_balance_model = RandomForestClassifier(random_state=325, **forest_random.best_params_\n",
    "                                             ).fit(features_train, target_train)\n",
    "forest_balance_predictions = forest_balance_model.predict(features_test)\n",
    "forest_balance_probas = forest_balance_model.predict_proba(features_test)\n",
    "auc_roc = roc_auc_score(target_test, forest_balance_probas[:, 1])\n",
    "\n",
    "print(\"F1 = {:.2f}, AUC = {:.2f}\".format(\n",
    "    f1_score(target_test, forest_balance_predictions), auc_roc))"
   ]
  },
  {
   "cell_type": "code",
   "execution_count": 439,
   "metadata": {
    "scrolled": false
   },
   "outputs": [
    {
     "name": "stdout",
     "output_type": "stream",
     "text": [
      "5 : 0.5641677255400254\n",
      "10 : 0.5690140845070423\n",
      "15 : 0.5672043010752689\n",
      "20 : 0.5673758865248227\n",
      "25 : 0.5674931129476585\n",
      "30 : 0.5746799431009957\n",
      "35 : 0.581267217630854\n",
      "40 : 0.579020979020979\n",
      "45 : 0.5809128630705395\n",
      "50 : 0.5879043600562588\n",
      "55 : 0.5805555555555556\n",
      "60 : 0.5779036827195467\n",
      "65 : 0.5813630041724618\n",
      "70 : 0.5839210155148097\n",
      "75 : 0.5809128630705395\n",
      "80 : 0.5862552594670406\n",
      "85 : 0.5829846582984658\n",
      "90 : 0.5842696629213484\n",
      "95 : 0.5829846582984658\n",
      "100 : 0.5786516853932585\n",
      "CPU times: user 15.6 s, sys: 139 ms, total: 15.7 s\n",
      "Wall time: 16.4 s\n"
     ]
    }
   ],
   "source": [
    "%%time\n",
    "for estimators in range(5,101,5):\n",
    "    forest_model = RandomForestClassifier(random_state=12345, n_estimators=estimators)\n",
    "    forest_model.fit(features_upsampled, target_upsampled)\n",
    "    forest_predicted_valid = forest_model.predict(features_valid)\n",
    "    print(estimators,':', f1_score(target_valid, forest_predicted_valid))"
   ]
  },
  {
   "cell_type": "markdown",
   "metadata": {},
   "source": [
    "max_depth - максимальная глубина дерева. Переберем в цикле значения от 1 до 20:"
   ]
  },
  {
   "cell_type": "code",
   "execution_count": 440,
   "metadata": {
    "scrolled": false
   },
   "outputs": [
    {
     "name": "stdout",
     "output_type": "stream",
     "text": [
      "Глубина дерева: 1 F1-мера: 0.5223367697594502\n",
      "Глубина дерева: 2 F1-мера: 0.5522388059701493\n",
      "Глубина дерева: 3 F1-мера: 0.5448028673835126\n",
      "Глубина дерева: 4 F1-мера: 0.5736434108527132\n",
      "Глубина дерева: 5 F1-мера: 0.5778210116731517\n",
      "Глубина дерева: 6 F1-мера: 0.5852674066599395\n",
      "Глубина дерева: 7 F1-мера: 0.5909090909090909\n",
      "Глубина дерева: 8 F1-мера: 0.5921192758253462\n",
      "Глубина дерева: 9 F1-мера: 0.5989071038251366\n",
      "Глубина дерева: 10 F1-мера: 0.6017897091722595\n",
      "Глубина дерева: 11 F1-мера: 0.6107226107226107\n",
      "Глубина дерева: 12 F1-мера: 0.5878048780487803\n",
      "Глубина дерева: 13 F1-мера: 0.5807259073842302\n",
      "Глубина дерева: 14 F1-мера: 0.5865633074935399\n",
      "Глубина дерева: 15 F1-мера: 0.5603112840466925\n",
      "Глубина дерева: 16 F1-мера: 0.5737483085250339\n",
      "Глубина дерева: 17 F1-мера: 0.5652759084791387\n",
      "Глубина дерева: 18 F1-мера: 0.5636856368563685\n",
      "Глубина дерева: 19 F1-мера: 0.5741496598639455\n",
      "Глубина дерева: 20 F1-мера: 0.577777777777778\n"
     ]
    }
   ],
   "source": [
    "for depth in range(1,21):\n",
    "    forest_model = RandomForestClassifier(random_state=12345, n_estimators=35, max_depth=depth)\n",
    "    forest_model.fit(features_upsampled, target_upsampled)\n",
    "    forest_predicted_valid = forest_model.predict(features_valid)\n",
    "    print('Глубина дерева:', depth, 'F1-мера:', f1_score(target_valid, forest_predicted_valid))"
   ]
  },
  {
   "cell_type": "markdown",
   "metadata": {},
   "source": [
    "min_samples_split - гиперпараметр запрещает создавать узлы, в которые попадает слишком мало объектов обучающей выборки. Переберем в цикле значения от 2 до 10:"
   ]
  },
  {
   "cell_type": "code",
   "execution_count": 441,
   "metadata": {},
   "outputs": [
    {
     "name": "stdout",
     "output_type": "stream",
     "text": [
      "2 : 0.5938104448742746\n",
      "3 : 0.5865384615384616\n",
      "4 : 0.5925925925925926\n",
      "5 : 0.5825426944971537\n",
      "6 : 0.5795996186844614\n",
      "7 : 0.5750000000000001\n",
      "8 : 0.5822050290135397\n",
      "9 : 0.5834127740705434\n",
      "10 : 0.5906432748538012\n"
     ]
    }
   ],
   "source": [
    "for sample in range(2,11):\n",
    "    forest_model = RandomForestClassifier(random_state=12345, n_estimators=40, max_depth=7, min_samples_split=sample)\n",
    "    forest_model.fit(features_downsampled, target_downsampled)\n",
    "    forest_predicted_valid = forest_model.predict(features_valid)\n",
    "    print(sample,':', f1_score(target_valid, forest_predicted_valid))"
   ]
  },
  {
   "cell_type": "code",
   "execution_count": 442,
   "metadata": {},
   "outputs": [
    {
     "data": {
      "text/plain": [
       "0.5909090909090909"
      ]
     },
     "execution_count": 442,
     "metadata": {},
     "output_type": "execute_result"
    }
   ],
   "source": [
    "forest_model = RandomForestClassifier(random_state=12345, n_estimators=35, max_depth=7)\n",
    "forest_model.fit(features_upsampled, target_upsampled)\n",
    "forest_predicted_valid = forest_model.predict(features_valid)\n",
    "f1_score(target_valid, forest_predicted_valid)"
   ]
  },
  {
   "cell_type": "markdown",
   "metadata": {},
   "source": [
    "Качество модели наилучшее при n_estimators=35, max_depth=7"
   ]
  },
  {
   "cell_type": "markdown",
   "metadata": {},
   "source": [
    "Так как модель определена и ее гиперпараметры выяснены, объеденим обучающую и валидационную выборку, используя метод .append, для того чтобы обучить модель еще немного лучше."
   ]
  },
  {
   "cell_type": "code",
   "execution_count": 443,
   "metadata": {},
   "outputs": [
    {
     "data": {
      "text/plain": [
       "(8000, 12)"
      ]
     },
     "execution_count": 443,
     "metadata": {},
     "output_type": "execute_result"
    }
   ],
   "source": [
    "df_train_valid = df_train.append(df_valid, ignore_index = True)\n",
    "df_train_valid.shape"
   ]
  },
  {
   "cell_type": "code",
   "execution_count": 444,
   "metadata": {},
   "outputs": [],
   "source": [
    "features_train_valid = df_train_valid.drop(['Exited'], axis=1)\n",
    "target_train_valid = df_train_valid['Exited']"
   ]
  },
  {
   "cell_type": "code",
   "execution_count": 445,
   "metadata": {},
   "outputs": [],
   "source": [
    "numeric = ['CreditScore', 'Age', 'Tenure', 'Balance', 'NumOfProducts', 'HasCrCard', 'IsActiveMember', 'EstimatedSalary']\n",
    "scaler = StandardScaler()\n",
    "scaler.fit(features_train_valid[numeric])\n",
    "features_train_valid[numeric] = scaler.transform(features_train_valid[numeric])"
   ]
  },
  {
   "cell_type": "code",
   "execution_count": 446,
   "metadata": {},
   "outputs": [
    {
     "name": "stdout",
     "output_type": "stream",
     "text": [
      "(12839, 11)\n",
      "(12839,)\n"
     ]
    }
   ],
   "source": [
    "features_train_valid_upsampled, target_train_valid_upsampled = upsample(features_train_valid, target_train_valid, 4)\n",
    "\n",
    "print(features_train_valid_upsampled.shape)\n",
    "print(target_train_valid_upsampled.shape)"
   ]
  },
  {
   "cell_type": "markdown",
   "metadata": {},
   "source": [
    "Заново обучим модель Случайный лес model_random_forest с настроенными гиперпараметрами на расширенной выборке:"
   ]
  },
  {
   "cell_type": "code",
   "execution_count": 447,
   "metadata": {},
   "outputs": [
    {
     "data": {
      "text/plain": [
       "RandomForestClassifier(bootstrap=True, class_weight=None, criterion='gini',\n",
       "                       max_depth=7, max_features='auto', max_leaf_nodes=None,\n",
       "                       min_impurity_decrease=0.0, min_impurity_split=None,\n",
       "                       min_samples_leaf=1, min_samples_split=2,\n",
       "                       min_weight_fraction_leaf=0.0, n_estimators=35,\n",
       "                       n_jobs=None, oob_score=False, random_state=12345,\n",
       "                       verbose=0, warm_start=False)"
      ]
     },
     "execution_count": 447,
     "metadata": {},
     "output_type": "execute_result"
    }
   ],
   "source": [
    "forest_model = RandomForestClassifier(random_state=12345, n_estimators=35, max_depth=7)\n",
    "forest_model.fit(features_train_valid_upsampled, target_train_valid_upsampled)"
   ]
  },
  {
   "cell_type": "markdown",
   "metadata": {},
   "source": [
    "# Выводы по главе 3:\n",
    "- Проверили несколько способов борьбы с дисбалансом.\n",
    "- Построили ROC кривые для каждой модели и посчитали AUC-ROC.\n",
    "- Для выбранной модели Случайный лес, увеличение выборки upsampling оказалось самым оптимальным"
   ]
  },
  {
   "cell_type": "markdown",
   "metadata": {},
   "source": [
    "# 4. Тестирование модели"
   ]
  },
  {
   "cell_type": "code",
   "execution_count": 448,
   "metadata": {},
   "outputs": [],
   "source": [
    "rf_fin = RandomForestClassifier(random_state=12345, max_depth=15, n_estimators=210).fit(features_downsampled, target_downsampled)"
   ]
  },
  {
   "cell_type": "code",
   "execution_count": 449,
   "metadata": {},
   "outputs": [
    {
     "name": "stdout",
     "output_type": "stream",
     "text": [
      "Показатели модели на тестовой выборке:\n",
      "Accuracy 0.795\n",
      "f1_score 0.621\n"
     ]
    }
   ],
   "source": [
    "print('Показатели модели на тестовой выборке:')\n",
    "print('Accuracy {:}'.format(rf_fin.score(features_test, target_test)))\n",
    "print('f1_score {:.3}'.format(f1_score(target_test, rf_fin.predict(features_test))))"
   ]
  },
  {
   "cell_type": "code",
   "execution_count": 450,
   "metadata": {},
   "outputs": [
    {
     "data": {
      "image/png": "[encoded data removed]",
      "text/plain": [
       "<Figure size 360x216 with 1 Axes>"
      ]
     },
     "metadata": {
      "needs_background": "light"
     },
     "output_type": "display_data"
    },
    {
     "name": "stdout",
     "output_type": "stream",
     "text": [
      "AUC-ROC финальной модели = 0.8643\n"
     ]
    }
   ],
   "source": [
    "p_test = rf_fin.predict_proba(features_test)\n",
    "p_one_test = p_test[:, 1]\n",
    "\n",
    "auc_roc = roc_auc_score(target_test, p_one_test)\n",
    "\n",
    "fpr, tpr, thresholds = roc_curve(target_test, p_one_test)\n",
    "\n",
    "plt.figure(figsize=(5,3))\n",
    "\n",
    "plt.plot(fpr, tpr, color='mediumblue')\n",
    "plt.plot([0, 1], [0, 1], linestyle='--', color='firebrick')\n",
    "\n",
    "plt.xlim([0.0, 1.0])\n",
    "plt.ylim([0.0, 1.0])\n",
    "\n",
    "plt.xlabel('False Positive Rate')\n",
    "plt.ylabel('True Positive Rate')\n",
    "\n",
    "plt.title('ROC-кривая финальной модели на тестовых данных')\n",
    "    \n",
    "plt.show()\n",
    "print('AUC-ROC финальной модели = {:.4}'.format(auc_roc))"
   ]
  },
  {
   "cell_type": "markdown",
   "metadata": {},
   "source": [
    "Вычислим значение f1 меры модели на тестовой выборке:"
   ]
  },
  {
   "cell_type": "code",
   "execution_count": 451,
   "metadata": {},
   "outputs": [
    {
     "name": "stdout",
     "output_type": "stream",
     "text": [
      "F1-мера: 0.6293018682399213\n"
     ]
    }
   ],
   "source": [
    "forest_predicted_valid = forest_model.predict(features_test)\n",
    "print('F1-мера:', f1_score(target_test, forest_predicted_valid))"
   ]
  },
  {
   "cell_type": "markdown",
   "metadata": {},
   "source": [
    "Построим roc-кривую и вычислим AUC-ROC для нашей модели."
   ]
  },
  {
   "cell_type": "code",
   "execution_count": 452,
   "metadata": {},
   "outputs": [
    {
     "name": "stdout",
     "output_type": "stream",
     "text": [
      "AUC-ROC финальной модели = 0.8643\n"
     ]
    }
   ],
   "source": [
    "print('AUC-ROC финальной модели = {:.4}'.format(auc_roc))"
   ]
  },
  {
   "cell_type": "markdown",
   "metadata": {},
   "source": [
    "# Выводы по главе 4:\n",
    "- Обученная модель Случайный Лес на тестовой выборке показала F1-меру: 0.593\n",
    "- Чтобы выявить, как сильно наша модель отличается от случайной, вычислили AUC-ROC равное: 0.853 \n",
    "- По ROC кривой можно увидеть при каких порогам классификации модель дает оптимальные метики"
   ]
  },
  {
   "cell_type": "markdown",
   "metadata": {},
   "source": [
    "# Глава 5. Общий вывод\n",
    "- Модель Случайный лес показала самые лучшие результаты из 3 моделей.\n",
    "- Проведя балансировку выборки и перебрав гиперпараметры модели, удалось достичь F1-меру: 0.593\n",
    "- Чтобы выявить, как сильно наша модель отличается от случайной, вычислили AUC-ROC равное: 0.853. Модель предсказывает лучше случайной на 35%.\n",
    "- Обученную для задачи классификации модель можно использовать для прогнозирования, уйдёт клиент из банка в ближайшее время или нет."
   ]
  },
  {
   "cell_type": "markdown",
   "metadata": {},
   "source": [
    "# Чек-лист готовности проекта"
   ]
  },
  {
   "cell_type": "markdown",
   "metadata": {},
   "source": [
    "Поставьте 'x' в выполненных пунктах. Далее нажмите Shift+Enter."
   ]
  },
  {
   "cell_type": "markdown",
   "metadata": {},
   "source": [
    "- [x]  Jupyter Notebook открыт\n",
    "- [x]  Весь код выполняется без ошибок\n",
    "- [x]  Ячейки с кодом расположены в порядке исполнения\n",
    "- [x]  Выполнен шаг 1: данные подготовлены\n",
    "- [x]  Выполнен шаг 2: задача исследована\n",
    "    - [x]  Исследован баланс классов\n",
    "    - [x]  Изучены модели без учёта дисбаланса\n",
    "    - [x]  Написаны выводы по результатам исследования\n",
    "- [x]  Выполнен шаг 3: учтён дисбаланс\n",
    "    - [x]  Применено несколько способов борьбы с дисбалансом\n",
    "    - [x]  Написаны выводы по результатам исследования\n",
    "- [x]  Выполнен шаг 4: проведено тестирование\n",
    "- [x]  Удалось достичь *F1*-меры не менее 0.59\n",
    "- [x]  Исследована метрика *AUC-ROC*"
   ]
  }
 ],
 "metadata": {
  "kernelspec": {
   "display_name": "Python 3",
   "language": "python",
   "name": "python3"
  },
  "language_info": {
   "codemirror_mode": {
    "name": "ipython",
    "version": 3
   },
   "file_extension": ".py",
   "mimetype": "text/x-python",
   "name": "python",
   "nbconvert_exporter": "python",
   "pygments_lexer": "ipython3",
   "version": "3.7.6"
  }
 },
 "nbformat": 4,
 "nbformat_minor": 2
}
